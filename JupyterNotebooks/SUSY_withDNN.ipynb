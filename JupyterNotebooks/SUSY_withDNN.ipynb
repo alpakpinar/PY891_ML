{
 "cells": [
  {
   "cell_type": "markdown",
   "metadata": {},
   "source": [
    "# Using A DNN To Discriminate Signal & Background Events in SUSY Dataset\n",
    "\n",
    "Here, using the Keras module, we deploy a DNN and try to distinguish signal & background events in SUSY dataset, located at https://archive.ics.uci.edu/ml/machine-learning-databases/00279/."
   ]
  },
  {
   "cell_type": "code",
   "execution_count": 1,
   "metadata": {},
   "outputs": [],
   "source": [
    "# Importing the SUSY Data set\n",
    "import sys, os\n",
    "import pandas as pd\n",
    "\n",
    "import numpy as np\n",
    "import warnings\n",
    "#Commnet the next line on to turn off warnings\n",
    "#warnings.filterwarnings('ignore')\n",
    "\n",
    "\n",
    "seed=12\n",
    "np.random.seed(seed)\n",
    "import tensorflow as tf\n",
    "# suppress tflow compilation warnings\n",
    "os.environ['TF_CPP_MIN_LOG_LEVEL'] = '2'\n",
    "\n",
    "tf.set_random_seed(seed)\n",
    "\n",
    "# Download the SUSY.csv (about 2GB) from UCI ML archive and save it in the same directory as this jupyter notebook\n",
    "# See: https://archive.ics.uci.edu/ml/machine-learning-databases/00279/\n",
    "filename=\"datasets/SUSY.csv\"\n",
    "#filename=os.path.expanduser('~')+'/ML_review/SUSY_data/SUSY.csv' \n",
    "\n",
    "columns=[\"signal\", \"lepton 1 pT\", \"lepton 1 eta\", \"lepton 1 phi\", \"lepton 2 pT\", \"lepton 2 eta\", \n",
    "         \"lepton 2 phi\", \"missing energy magnitude\", \"missing energy phi\", \"MET_rel\", \n",
    "         \"axial MET\", \"M_R\", \"M_TR_2\", \"R\", \"MT2\", \"S_R\", \"M_Delta_R\", \"dPhi_r_b\", \"cos(theta_r1)\"]\n",
    "\n",
    "# Load 1,500,000 rows as train data, 50,000 as test data\n",
    "df_train=pd.read_csv(filename,names=columns,nrows=1500000,engine='python')\n",
    "df_test=pd.read_csv(filename,names=columns,nrows=50000, skiprows=1500000,engine='python')"
   ]
  },
  {
   "cell_type": "markdown",
   "metadata": {},
   "source": [
    "## Explore the Data\n",
    "\n",
    "Taking a look at the SUSY data, exploring columns and features."
   ]
  },
  {
   "cell_type": "code",
   "execution_count": 2,
   "metadata": {},
   "outputs": [
    {
     "name": "stdout",
     "output_type": "stream",
     "text": [
      "   signal  lepton 1 pT  lepton 1 eta  lepton 1 phi  lepton 2 pT  lepton 2 eta  \\\n",
      "0     0.0     0.972861      0.653855      1.176225     1.157156     -1.739873   \n",
      "1     1.0     1.667973      0.064191     -1.225171     0.506102     -0.338939   \n",
      "2     1.0     0.444840     -0.134298     -0.709972     0.451719     -1.613871   \n",
      "3     1.0     0.381256     -0.976145      0.693152     0.448959      0.891753   \n",
      "4     1.0     1.309996     -0.690089     -0.676259     1.589283     -0.693326   \n",
      "\n",
      "   lepton 2 phi  missing energy magnitude  missing energy phi   MET_rel  \\\n",
      "0     -0.874309                  0.567765           -0.175000  0.810061   \n",
      "1      1.672543                  3.475464           -1.219136  0.012955   \n",
      "2     -0.768661                  1.219918            0.504026  1.831248   \n",
      "3     -0.677328                  2.033060            1.533041  3.046260   \n",
      "4      0.622907                  1.087562           -0.381742  0.589204   \n",
      "\n",
      "   axial MET       M_R    M_TR_2         R       MT2       S_R  M_Delta_R  \\\n",
      "0  -0.252552  1.921887  0.889637  0.410772  1.145621  1.932632   0.994464   \n",
      "1   3.775174  1.045977  0.568051  0.481928  0.000000  0.448410   0.205356   \n",
      "2  -0.431385  0.526283  0.941514  1.587535  2.024308  0.603498   1.562374   \n",
      "3  -1.005285  0.569386  1.015211  1.582217  1.551914  0.761215   1.715464   \n",
      "4   1.365479  1.179295  0.968218  0.728563  0.000000  1.083158   0.043429   \n",
      "\n",
      "   dPhi_r_b  cos(theta_r1)  \n",
      "0  1.367815       0.040714  \n",
      "1  1.321893       0.377584  \n",
      "2  1.135454       0.180910  \n",
      "3  1.492257       0.090719  \n",
      "4  1.154854       0.094859  \n",
      "Number of columns in the dataset: 19\n"
     ]
    }
   ],
   "source": [
    "# Show the first 5 entries of the training set\n",
    "print(df_train.head())\n",
    "n_columns = len(df_train.columns)\n",
    "print('Number of columns in the dataset: %d' % n_columns)"
   ]
  },
  {
   "cell_type": "markdown",
   "metadata": {},
   "source": [
    "## Creating a DNN\n",
    "\n",
    "Here, we create a DNN using layers defined in Keras module."
   ]
  },
  {
   "cell_type": "code",
   "execution_count": 3,
   "metadata": {},
   "outputs": [
    {
     "name": "stderr",
     "output_type": "stream",
     "text": [
      "Using TensorFlow backend.\n"
     ]
    }
   ],
   "source": [
    "import keras\n",
    "from keras.utils import to_categorical\n",
    "from keras.models import Sequential\n",
    "from keras.layers import Dense, Dropout, Flatten, BatchNormalization\n",
    "from matplotlib import pyplot as plt"
   ]
  },
  {
   "cell_type": "code",
   "execution_count": 4,
   "metadata": {},
   "outputs": [],
   "source": [
    "num_classes = 2 # signal or background\n",
    "num_parameters = n_columns-1 # number of columns to use\n",
    "\n",
    "num_train_samples = 1500000\n",
    "\n",
    "train_labels = df_train.iloc[:num_train_samples,0]\n",
    "test_labels = df_test.iloc[:,0]\n",
    "\n",
    "Y_train = to_categorical(train_labels, num_classes)\n",
    "Y_test = to_categorical(test_labels, num_classes)\n",
    "\n",
    "X_train = df_train.iloc[:num_train_samples,1:num_parameters+1]\n",
    "X_test = df_test.iloc[:,1:num_parameters+1]\n",
    "\n",
    "X_train = X_train.astype('float32')\n",
    "X_test = X_test.astype('float32')\n"
   ]
  },
  {
   "cell_type": "markdown",
   "metadata": {},
   "source": [
    "## Create and visualize the model"
   ]
  },
  {
   "cell_type": "code",
   "execution_count": 5,
   "metadata": {},
   "outputs": [
    {
     "name": "stdout",
     "output_type": "stream",
     "text": [
      "Model architecture created successfully!\n"
     ]
    }
   ],
   "source": [
    "def create_DNN(dropout_rate=0.5):\n",
    "    '''Create the Deep Neural Network.'''\n",
    "    # instantiate model\n",
    "    model = Sequential()\n",
    "    # add a dense all-to-all relu layer\n",
    "    model.add(Dense(300,input_shape=(num_parameters,), activation='tanh'))\n",
    "    # add a batch-norm layer\n",
    "    model.add(BatchNormalization())\n",
    "    # add a dense all-to-all relu layer\n",
    "    model.add(Dense(100, activation='tanh'))\n",
    "    # apply dropout with rate 0.5\n",
    "    model.add(Dropout(dropout_rate))\n",
    "    # soft-max layer\n",
    "    model.add(Dense(num_classes, activation='sigmoid'))\n",
    "    \n",
    "    return model\n",
    "    \n",
    "print('Model architecture created successfully!')\n"
   ]
  },
  {
   "cell_type": "code",
   "execution_count": 57,
   "metadata": {},
   "outputs": [
    {
     "name": "stdout",
     "output_type": "stream",
     "text": [
      "Learning rate: 0.001000\n",
      "Model compiled successfully and ready to be trained.\n"
     ]
    }
   ],
   "source": [
    "def compile_model(optimizer=keras.optimizers.Adam(), lr_rate=0.001, dropout_rate=0.5):\n",
    "    # create the mode\n",
    "    model=create_DNN(dropout_rate)\n",
    "    # visualize the model\n",
    "    #print(model.summary())\n",
    "    # compile the model\n",
    "    model.compile(loss=keras.losses.mean_squared_error,\n",
    "                  optimizer=optimizer,\n",
    "                  metrics=['accuracy'])\n",
    "    return model\n",
    "\n",
    "def compile_model_lr(lr_rate=0.001):\n",
    "    '''Create and compile the DNN model using Adagrad optimizer\n",
    "       and a dropout rate of 0.4.\n",
    "       Learning rate can be tweaked using this function.'''\n",
    "    # create the mode\n",
    "    model=create_DNN(dropout_rate=0.4)\n",
    "    # visualize the model\n",
    "    #print(model.summary())\n",
    "    # compile the model\n",
    "    model.compile(loss=keras.losses.mean_squared_error,\n",
    "                  optimizer=keras.optimizers.Adagrad(lr=lr_rate),\n",
    "                  metrics=['accuracy'])\n",
    "    return model\n",
    "\n",
    "# training parameters\n",
    "batch_size = 64\n",
    "epochs = 5\n",
    "\n",
    "# create the deep neural net\n",
    "model_DNN=compile_model()\n",
    "\n",
    "# print current learning rate\n",
    "print('Learning rate: %f' % keras.backend.eval(model_DNN.optimizer.lr))\n",
    "\n",
    "\n",
    "print('Model compiled successfully and ready to be trained.')\n",
    "\n"
   ]
  },
  {
   "cell_type": "markdown",
   "metadata": {},
   "source": [
    "## Fit the model"
   ]
  },
  {
   "cell_type": "code",
   "execution_count": 10,
   "metadata": {},
   "outputs": [
    {
     "name": "stdout",
     "output_type": "stream",
     "text": [
      "WARNING:tensorflow:From /Users/alpakpinar/anaconda3/lib/python3.7/site-packages/keras/backend/tensorflow_backend.py:422: The name tf.global_variables is deprecated. Please use tf.compat.v1.global_variables instead.\n",
      "\n",
      "Train on 1500000 samples, validate on 50000 samples\n",
      "Epoch 1/5\n",
      "1500000/1500000 [==============================] - 34s 23us/step - loss: 0.1464 - accuracy: 0.7932 - val_loss: 0.1405 - val_accuracy: 0.8005\n",
      "Epoch 2/5\n",
      "1500000/1500000 [==============================] - 34s 22us/step - loss: 0.1438 - accuracy: 0.7963 - val_loss: 0.1402 - val_accuracy: 0.8010\n",
      "Epoch 3/5\n",
      "1500000/1500000 [==============================] - 33s 22us/step - loss: 0.1431 - accuracy: 0.7970 - val_loss: 0.1397 - val_accuracy: 0.8014\n",
      "Epoch 4/5\n",
      "1500000/1500000 [==============================] - 34s 23us/step - loss: 0.1428 - accuracy: 0.7974 - val_loss: 0.1396 - val_accuracy: 0.8015\n",
      "Epoch 5/5\n",
      "1500000/1500000 [==============================] - 33s 22us/step - loss: 0.1424 - accuracy: 0.7981 - val_loss: 0.1397 - val_accuracy: 0.8018\n"
     ]
    }
   ],
   "source": [
    "# train DNN and store training info in history\n",
    "history=model_DNN.fit(X_train, Y_train,\n",
    "          batch_size=batch_size,\n",
    "          epochs=epochs,\n",
    "          verbose=1,\n",
    "          validation_data=(X_test, Y_test))"
   ]
  },
  {
   "cell_type": "markdown",
   "metadata": {},
   "source": [
    "Evaluating the model performance on unseen data."
   ]
  },
  {
   "cell_type": "code",
   "execution_count": 11,
   "metadata": {},
   "outputs": [
    {
     "name": "stdout",
     "output_type": "stream",
     "text": [
      "50000/50000 [==============================] - 1s 13us/step\n",
      "\n",
      "Test loss: 0.13969348713636398\n",
      "Test accuracy: 0.8018199801445007\n"
     ]
    },
    {
     "data": {
      "image/png": "[encoded data removed]",
      "text/plain": [
       "<Figure size 432x288 with 1 Axes>"
      ]
     },
     "metadata": {
      "needs_background": "light"
     },
     "output_type": "display_data"
    },
    {
     "data": {
      "image/png": "[encoded data removed]",
      "text/plain": [
       "<Figure size 432x288 with 1 Axes>"
      ]
     },
     "metadata": {
      "needs_background": "light"
     },
     "output_type": "display_data"
    }
   ],
   "source": [
    "# evaluate model\n",
    "score = model_DNN.evaluate(X_test, Y_test, verbose=1)\n",
    "\n",
    "# print performance\n",
    "print()\n",
    "print('Test loss:', score[0])\n",
    "print('Test accuracy:', score[1])\n",
    "\n",
    "# look into training history\n",
    "\n",
    "# summarize history for accuracy\n",
    "plt.plot(history.history['accuracy'])\n",
    "plt.plot(history.history['val_accuracy'])\n",
    "plt.ylabel('model accuracy')\n",
    "plt.xlabel('epoch')\n",
    "plt.legend(['train', 'test'], loc='best')\n",
    "#plt.savefig('plots_DNN_SUSY/acc3.png')\n",
    "plt.show()\n",
    "\n",
    "# summarize history for loss\n",
    "plt.plot(history.history['loss'])\n",
    "plt.plot(history.history['val_loss'])\n",
    "plt.ylabel('model loss')\n",
    "plt.xlabel('epoch')\n",
    "plt.legend(['train', 'test'], loc='best')\n",
    "plt.show()\n"
   ]
  },
  {
   "cell_type": "markdown",
   "metadata": {},
   "source": [
    "## Grid Search for Hyperparameter Tuning"
   ]
  },
  {
   "cell_type": "code",
   "execution_count": 12,
   "metadata": {},
   "outputs": [],
   "source": [
    "from sklearn.model_selection import GridSearchCV\n",
    "from keras.wrappers.scikit_learn import KerasClassifier"
   ]
  },
  {
   "cell_type": "code",
   "execution_count": 59,
   "metadata": {},
   "outputs": [
    {
     "name": "stdout",
     "output_type": "stream",
     "text": [
      "Epoch 1/1\n",
      "33333/33333 [==============================] - 8s 249us/step - loss: 0.2364 - accuracy: 0.6481\n",
      "16667/16667 [==============================] - 5s 323us/step\n",
      "Epoch 1/1\n",
      "33333/33333 [==============================] - 8s 250us/step - loss: 0.2235 - accuracy: 0.6751\n",
      "16667/16667 [==============================] - 5s 327us/step\n",
      "Epoch 1/1\n",
      "33334/33334 [==============================] - 9s 256us/step - loss: 0.2263 - accuracy: 0.6687\n",
      "16666/16666 [==============================] - 6s 331us/step\n",
      "Epoch 1/1\n",
      "33333/33333 [==============================] - 8s 250us/step - loss: 0.1711 - accuracy: 0.7659\n",
      "16667/16667 [==============================] - 5s 327us/step\n",
      "Epoch 1/1\n",
      "33333/33333 [==============================] - 9s 260us/step - loss: 0.1738 - accuracy: 0.7607\n",
      "16667/16667 [==============================] - 6s 334us/step\n",
      "Epoch 1/1\n",
      "33334/33334 [==============================] - 9s 257us/step - loss: 0.1699 - accuracy: 0.7666\n",
      "16666/16666 [==============================] - 6s 344us/step\n",
      "Epoch 1/1\n",
      "33333/33333 [==============================] - 8s 253us/step - loss: 0.1654 - accuracy: 0.7745\n",
      "16667/16667 [==============================] - 6s 337us/step\n",
      "Epoch 1/1\n",
      "33333/33333 [==============================] - 9s 258us/step - loss: 0.1679 - accuracy: 0.7735\n",
      "16667/16667 [==============================] - 6s 331us/step\n",
      "Epoch 1/1\n",
      "33334/33334 [==============================] - 9s 273us/step - loss: 0.1659 - accuracy: 0.7749\n",
      "16666/16666 [==============================] - 6s 351us/step\n",
      "Epoch 1/1\n",
      "33333/33333 [==============================] - 9s 262us/step - loss: 0.1637 - accuracy: 0.7736\n",
      "16667/16667 [==============================] - 6s 342us/step\n",
      "Epoch 1/1\n",
      "33333/33333 [==============================] - 9s 257us/step - loss: 0.1649 - accuracy: 0.7734\n",
      "16667/16667 [==============================] - 6s 349us/step\n",
      "Epoch 1/1\n",
      "33334/33334 [==============================] - 9s 263us/step - loss: 0.1637 - accuracy: 0.7773\n",
      "16666/16666 [==============================] - 6s 345us/step\n",
      "Epoch 1/1\n",
      "50000/50000 [==============================] - 11s 224us/step - loss: 0.1623 - accuracy: 0.7761\n"
     ]
    }
   ],
   "source": [
    "# Wrap the Keras model \n",
    "neural_network = KerasClassifier(build_fn=compile_model_lr, # change to compile_model to run grid_1\n",
    "                                 epochs=1,\n",
    "                                 batch_size=batch_size,\n",
    "                                 verbose=1)\n",
    "\n",
    "# Create hyperparameter space\n",
    "\n",
    "lr_rates = np.logspace(-4,-1,4)\n",
    "optimizers = ['SGD', 'RMSprop', 'Adagrad', 'Adam']\n",
    "dropout_rates = [0.3,0.4,0.5,0.6]\n",
    "\n",
    "param_grid = dict(optimizer=optimizers, dropout_rate=dropout_rates)\n",
    "param_grid_2 = dict(lr_rate=lr_rates)\n",
    "\n",
    "# Do the grid search\n",
    "#grid_1 = GridSearchCV(estimator=neural_network, param_grid=param_grid, n_jobs=1, cv=3)\n",
    "#grid_result_1 = grid_1.fit(X_test, Y_test)\n",
    "\n",
    "grid_2 = GridSearchCV(estimator=neural_network, param_grid=param_grid_2, n_jobs=1, cv=3)\n",
    "grid_result_2 = grid_2.fit(X_test, Y_test)\n",
    "\n",
    "\n",
    "\n"
   ]
  },
  {
   "cell_type": "markdown",
   "metadata": {},
   "source": [
    "## Visualize the grid search results\n",
    "### Dropout Rate and Optimizer:"
   ]
  },
  {
   "cell_type": "code",
   "execution_count": 53,
   "metadata": {},
   "outputs": [
    {
     "name": "stdout",
     "output_type": "stream",
     "text": [
      "Best: 0.791080 using {'dropout_rate': 0.4, 'optimizer': 'Adagrad'}\n"
     ]
    },
    {
     "data": {
      "image/png": "[encoded data removed]",
      "text/plain": [
       "<Figure size 432x288 with 2 Axes>"
      ]
     },
     "metadata": {
      "needs_background": "light"
     },
     "output_type": "display_data"
    }
   ],
   "source": [
    "# Summarize results\n",
    "print('Best: %f using %s' % (grid_result_1.best_score_, grid_result_1.best_params_))\n",
    "\n",
    "means = grid_result_1.cv_results_['mean_test_score']\n",
    "stds = grid_result_1.cv_results_['std_test_score']\n",
    "params = grid_result_1.cv_results_['params']\n",
    "\n",
    "\n",
    "#for mean, std, param in zip(means, stds, params):\n",
    "#    print('%f (%f) with: %r' % (mean, std, param))\n",
    "    \n",
    "plt.imshow(means.reshape(4,4))\n",
    "plt.xticks([0., 1., 2., 3.,], optimizers)\n",
    "plt.xlabel('Optimizer')\n",
    "plt.yticks([0, 1, 2, 3], dropout_rates)\n",
    "plt.ylabel('Dropout Rate')\n",
    "plt.title('Mean Test Acc.')\n",
    "plt.colorbar()\n",
    "plt.savefig('plots_DNN_SUSY/gridsearch_droprate_optimizer.png')\n",
    "\n",
    "\n",
    "\n"
   ]
  },
  {
   "cell_type": "markdown",
   "metadata": {},
   "source": [
    "### Learning Rate:"
   ]
  },
  {
   "cell_type": "code",
   "execution_count": 60,
   "metadata": {},
   "outputs": [
    {
     "data": {
      "image/png": "[encoded data removed]",
      "text/plain": [
       "<Figure size 432x288 with 1 Axes>"
      ]
     },
     "metadata": {
      "needs_background": "light"
     },
     "output_type": "display_data"
    }
   ],
   "source": [
    "# Compare learning rates\n",
    "\n",
    "means_lr = grid_result_2.cv_results_['mean_test_score']\n",
    "\n",
    "plt.semilogx(lr_rates, means_lr, 'o')\n",
    "plt.xlabel('Learning rate')\n",
    "plt.ylabel('Mean test acc.')\n",
    "plt.grid(1)\n",
    "plt.savefig('plots_DNN_SUSY/gridsearch_learningrate.png')\n"
   ]
  },
  {
   "cell_type": "markdown",
   "metadata": {},
   "source": [
    "# Trials & Results\n",
    "\n",
    "## Grid Search Results\n",
    "\n",
    "Using initial model, we performed a grid search for an attempt to find the optimal dropout rate and optimizer. Best mean test accuracy was $79.11\\%$, with a dropout rate of 0.4 and optimizer Adagrad.\n",
    "\n",
    "<img src=\"plots_DNN_SUSY/gridsearch_droprate_optimizer.png\"/>\n",
    "\n",
    "Using the most optimal dropout rate and optimizer found, we also scan learning rate values ranging from $10^{-4}$ to $10^{-1}$. Mean test accuracies for each learning rate can be found in the figure below.\n",
    "\n",
    "<img src=\"plots_DNN_SUSY/gridsearch_learningrate.png\"/>\n",
    "\n",
    "From the figure, optimal learning rate is determined to be $10^{-2}$.\n",
    "\n"
   ]
  },
  {
   "cell_type": "markdown",
   "metadata": {},
   "source": []
  },
  {
   "cell_type": "code",
   "execution_count": null,
   "metadata": {},
   "outputs": [],
   "source": []
  }
 ],
 "metadata": {
  "kernelspec": {
   "display_name": "Python 3",
   "language": "python",
   "name": "python3"
  },
  "language_info": {
   "codemirror_mode": {
    "name": "ipython",
    "version": 3
   },
   "file_extension": ".py",
   "mimetype": "text/x-python",
   "name": "python",
   "nbconvert_exporter": "python",
   "pygments_lexer": "ipython3",
   "version": "3.7.3"
  }
 },
 "nbformat": 4,
 "nbformat_minor": 2
}
