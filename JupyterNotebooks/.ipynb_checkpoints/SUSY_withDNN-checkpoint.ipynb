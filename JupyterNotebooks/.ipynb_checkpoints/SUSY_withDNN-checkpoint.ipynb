{
 "cells": [
  {
   "cell_type": "markdown",
   "metadata": {},
   "source": [
    "# Using A DNN To Discriminate Signal & Background Events in SUSY Dataset\n",
    "\n",
    "Here, using the Keras module, we deploy a DNN and try to distinguish signal & background events in SUSY dataset, located at https://archive.ics.uci.edu/ml/machine-learning-databases/00279/."
   ]
  },
  {
   "cell_type": "code",
   "execution_count": 1,
   "metadata": {},
   "outputs": [],
   "source": [
    "# Importing the SUSY Data set\n",
    "import sys, os\n",
    "import pandas as pd\n",
    "\n",
    "import numpy as np\n",
    "import warnings\n",
    "#Commnet the next line on to turn off warnings\n",
    "#warnings.filterwarnings('ignore')\n",
    "\n",
    "\n",
    "seed=12\n",
    "np.random.seed(seed)\n",
    "import tensorflow as tf\n",
    "# suppress tflow compilation warnings\n",
    "os.environ['TF_CPP_MIN_LOG_LEVEL'] = '2'\n",
    "\n",
    "tf.set_random_seed(seed)\n",
    "\n",
    "# Download the SUSY.csv (about 2GB) from UCI ML archive and save it in the same directory as this jupyter notebook\n",
    "# See: https://archive.ics.uci.edu/ml/machine-learning-databases/00279/\n",
    "filename=\"datasets/SUSY.csv\"\n",
    "#filename=os.path.expanduser('~')+'/ML_review/SUSY_data/SUSY.csv' \n",
    "\n",
    "columns=[\"signal\", \"lepton 1 pT\", \"lepton 1 eta\", \"lepton 1 phi\", \"lepton 2 pT\", \"lepton 2 eta\", \n",
    "         \"lepton 2 phi\", \"missing energy magnitude\", \"missing energy phi\", \"MET_rel\", \n",
    "         \"axial MET\", \"M_R\", \"M_TR_2\", \"R\", \"MT2\", \"S_R\", \"M_Delta_R\", \"dPhi_r_b\", \"cos(theta_r1)\"]\n",
    "\n",
    "# Load 1,500,000 rows as train data, 50,000 as test data\n",
    "df_train=pd.read_csv(filename,names=columns,nrows=1500000,engine='python')\n",
    "df_test=pd.read_csv(filename,names=columns,nrows=50000, skiprows=1500000,engine='python')"
   ]
  },
  {
   "cell_type": "markdown",
   "metadata": {},
   "source": [
    "## Explore the Data\n",
    "\n",
    "Taking a look at the SUSY data, exploring columns and features."
   ]
  },
  {
   "cell_type": "code",
   "execution_count": 2,
   "metadata": {},
   "outputs": [
    {
     "name": "stdout",
     "output_type": "stream",
     "text": [
      "   signal  lepton 1 pT  lepton 1 eta  lepton 1 phi  lepton 2 pT  lepton 2 eta  \\\n",
      "0     0.0     0.972861      0.653855      1.176225     1.157156     -1.739873   \n",
      "1     1.0     1.667973      0.064191     -1.225171     0.506102     -0.338939   \n",
      "2     1.0     0.444840     -0.134298     -0.709972     0.451719     -1.613871   \n",
      "3     1.0     0.381256     -0.976145      0.693152     0.448959      0.891753   \n",
      "4     1.0     1.309996     -0.690089     -0.676259     1.589283     -0.693326   \n",
      "\n",
      "   lepton 2 phi  missing energy magnitude  missing energy phi   MET_rel  \\\n",
      "0     -0.874309                  0.567765           -0.175000  0.810061   \n",
      "1      1.672543                  3.475464           -1.219136  0.012955   \n",
      "2     -0.768661                  1.219918            0.504026  1.831248   \n",
      "3     -0.677328                  2.033060            1.533041  3.046260   \n",
      "4      0.622907                  1.087562           -0.381742  0.589204   \n",
      "\n",
      "   axial MET       M_R    M_TR_2         R       MT2       S_R  M_Delta_R  \\\n",
      "0  -0.252552  1.921887  0.889637  0.410772  1.145621  1.932632   0.994464   \n",
      "1   3.775174  1.045977  0.568051  0.481928  0.000000  0.448410   0.205356   \n",
      "2  -0.431385  0.526283  0.941514  1.587535  2.024308  0.603498   1.562374   \n",
      "3  -1.005285  0.569386  1.015211  1.582217  1.551914  0.761215   1.715464   \n",
      "4   1.365479  1.179295  0.968218  0.728563  0.000000  1.083158   0.043429   \n",
      "\n",
      "   dPhi_r_b  cos(theta_r1)  \n",
      "0  1.367815       0.040714  \n",
      "1  1.321893       0.377584  \n",
      "2  1.135454       0.180910  \n",
      "3  1.492257       0.090719  \n",
      "4  1.154854       0.094859  \n",
      "Number of columns in the dataset: 19\n"
     ]
    }
   ],
   "source": [
    "# Show the first 5 entries of the training set\n",
    "print(df_train.head())\n",
    "\n",
    "n_columns = len(df_train.columns)\n",
    "print('Number of columns in the dataset: %d' % n_columns)"
   ]
  },
  {
   "cell_type": "markdown",
   "metadata": {},
   "source": [
    "## Creating a DNN\n",
    "\n",
    "Here, we create a DNN using layers defined in Keras module."
   ]
  },
  {
   "cell_type": "code",
   "execution_count": 3,
   "metadata": {},
   "outputs": [
    {
     "name": "stderr",
     "output_type": "stream",
     "text": [
      "Using TensorFlow backend.\n"
     ]
    }
   ],
   "source": [
    "import keras\n",
    "from keras.utils import to_categorical\n",
    "from keras.models import Sequential\n",
    "from keras.layers import Dense, Dropout, Flatten, BatchNormalization\n",
    "from keras.utils.vis_utils import plot_model\n",
    "from matplotlib import pyplot as plt"
   ]
  },
  {
   "cell_type": "code",
   "execution_count": 5,
   "metadata": {},
   "outputs": [],
   "source": [
    "num_classes = 2 # signal or background\n",
    "num_parameters = n_columns-1 # number of columns to use\n",
    "\n",
    "num_train_samples = 1500000\n",
    "\n",
    "train_labels = df_train.iloc[:num_train_samples,0]\n",
    "test_labels = df_test.iloc[:,0]\n",
    "\n",
    "Y_train = to_categorical(train_labels, num_classes)\n",
    "Y_test = to_categorical(test_labels, num_classes)\n",
    "\n",
    "X_train = df_train.iloc[:num_train_samples,1:num_parameters+1]\n",
    "X_test = df_test.iloc[:,1:num_parameters+1]\n",
    "\n",
    "X_train = X_train.astype('float32')\n",
    "X_test = X_test.astype('float32')"
   ]
  },
  {
   "cell_type": "markdown",
   "metadata": {},
   "source": [
    "## Create and visualize the model"
   ]
  },
  {
   "cell_type": "code",
   "execution_count": 6,
   "metadata": {},
   "outputs": [
    {
     "name": "stdout",
     "output_type": "stream",
     "text": [
      "Model architecture created successfully!\n"
     ]
    }
   ],
   "source": [
    "def create_DNN():\n",
    "    '''Create the Deep Neural Network.'''\n",
    "    # instantiate model\n",
    "    model = Sequential()\n",
    "    # add a dense all-to-all relu layer\n",
    "    model.add(Dense(300,input_shape=(num_parameters,), activation='tanh'))\n",
    "    # add a batch-norm layer\n",
    "    model.add(BatchNormalization())\n",
    "    # add a dense all-to-all relu layer\n",
    "    model.add(Dense(100, activation='tanh'))\n",
    "    # apply dropout with rate 0.5\n",
    "    model.add(Dropout(0.5))\n",
    "    # soft-max layer\n",
    "    model.add(Dense(num_classes, activation='sigmoid'))\n",
    "    \n",
    "    return model\n",
    "\n",
    "def print_DNN(model):\n",
    "    '''Print the architecture of DNN.'''\n",
    "    print(model.summary())\n",
    "    \n",
    "print('Model architecture created successfully!')\n"
   ]
  },
  {
   "cell_type": "code",
   "execution_count": 7,
   "metadata": {},
   "outputs": [
    {
     "name": "stdout",
     "output_type": "stream",
     "text": [
      "WARNING:tensorflow:From /Users/alpakpinar/anaconda3/lib/python3.7/site-packages/tensorflow_core/python/ops/resource_variable_ops.py:1630: calling BaseResourceVariable.__init__ (from tensorflow.python.ops.resource_variable_ops) with constraint is deprecated and will be removed in a future version.\n",
      "Instructions for updating:\n",
      "If using Keras pass *_constraint arguments to layers.\n",
      "Model: \"sequential_1\"\n",
      "_________________________________________________________________\n",
      "Layer (type)                 Output Shape              Param #   \n",
      "=================================================================\n",
      "dense_1 (Dense)              (None, 300)               5700      \n",
      "_________________________________________________________________\n",
      "batch_normalization_1 (Batch (None, 300)               1200      \n",
      "_________________________________________________________________\n",
      "dense_2 (Dense)              (None, 100)               30100     \n",
      "_________________________________________________________________\n",
      "dropout_1 (Dropout)          (None, 100)               0         \n",
      "_________________________________________________________________\n",
      "dense_3 (Dense)              (None, 2)                 202       \n",
      "=================================================================\n",
      "Total params: 37,202\n",
      "Trainable params: 36,602\n",
      "Non-trainable params: 600\n",
      "_________________________________________________________________\n",
      "None\n",
      "Model compiled successfully and ready to be trained.\n"
     ]
    }
   ],
   "source": [
    "def compile_model(optimizer=keras.optimizers.Adam()):\n",
    "    # create the mode\n",
    "    model=create_DNN()\n",
    "    # visualize the model\n",
    "    print_DNN(model)\n",
    "    # compile the model\n",
    "    model.compile(loss=keras.losses.categorical_crossentropy,\n",
    "                  optimizer=optimizer,\n",
    "                  metrics=['accuracy'])\n",
    "    return model\n",
    "\n",
    "# training parameters\n",
    "batch_size = 64\n",
    "epochs = 5\n",
    "\n",
    "# create the deep neural net\n",
    "model_DNN=compile_model()\n",
    "\n",
    "print('Model compiled successfully and ready to be trained.')\n",
    "\n"
   ]
  },
  {
   "cell_type": "markdown",
   "metadata": {},
   "source": [
    "## Fit the model"
   ]
  },
  {
   "cell_type": "code",
   "execution_count": 8,
   "metadata": {},
   "outputs": [
    {
     "name": "stdout",
     "output_type": "stream",
     "text": [
      "WARNING:tensorflow:From /Users/alpakpinar/anaconda3/lib/python3.7/site-packages/tensorflow_core/python/ops/math_grad.py:1424: where (from tensorflow.python.ops.array_ops) is deprecated and will be removed in a future version.\n",
      "Instructions for updating:\n",
      "Use tf.where in 2.0, which has the same broadcast rule as np.where\n",
      "WARNING:tensorflow:From /Users/alpakpinar/anaconda3/lib/python3.7/site-packages/keras/backend/tensorflow_backend.py:422: The name tf.global_variables is deprecated. Please use tf.compat.v1.global_variables instead.\n",
      "\n",
      "Train on 1500000 samples, validate on 50000 samples\n",
      "Epoch 1/5\n",
      "1500000/1500000 [==============================] - 36s 24us/step - loss: 0.4488 - accuracy: 0.7928 - val_loss: 0.4345 - val_accuracy: 0.7987\n",
      "Epoch 2/5\n",
      "1500000/1500000 [==============================] - 34s 23us/step - loss: 0.4416 - accuracy: 0.7968 - val_loss: 0.4335 - val_accuracy: 0.7992\n",
      "Epoch 3/5\n",
      "1500000/1500000 [==============================] - 34s 23us/step - loss: 0.4393 - accuracy: 0.7977 - val_loss: 0.4357 - val_accuracy: 0.7972\n",
      "Epoch 4/5\n",
      "1500000/1500000 [==============================] - 35s 23us/step - loss: 0.4379 - accuracy: 0.7989 - val_loss: 0.4322 - val_accuracy: 0.7999\n",
      "Epoch 5/5\n",
      "1500000/1500000 [==============================] - 34s 23us/step - loss: 0.4369 - accuracy: 0.7993 - val_loss: 0.4331 - val_accuracy: 0.7984\n"
     ]
    }
   ],
   "source": [
    "# train DNN and store training info in history\n",
    "history=model_DNN.fit(X_train, Y_train,\n",
    "          batch_size=batch_size,\n",
    "          epochs=epochs,\n",
    "          verbose=1,\n",
    "          validation_data=(X_test, Y_test))"
   ]
  },
  {
   "cell_type": "markdown",
   "metadata": {},
   "source": [
    "Evaluating the model performance on unseen data."
   ]
  },
  {
   "cell_type": "code",
   "execution_count": 11,
   "metadata": {},
   "outputs": [
    {
     "name": "stdout",
     "output_type": "stream",
     "text": [
      "50000/50000 [==============================] - 1s 12us/step\n",
      "\n",
      "Test loss: 0.43308164368629454\n",
      "Test accuracy: 0.7983999848365784\n"
     ]
    },
    {
     "data": {
      "image/png": "[encoded data removed]",
      "text/plain": [
       "<Figure size 432x288 with 1 Axes>"
      ]
     },
     "metadata": {
      "needs_background": "light"
     },
     "output_type": "display_data"
    },
    {
     "data": {
      "image/png": "[encoded data removed]",
      "text/plain": [
       "<Figure size 432x288 with 1 Axes>"
      ]
     },
     "metadata": {
      "needs_background": "light"
     },
     "output_type": "display_data"
    }
   ],
   "source": [
    "# evaluate model\n",
    "score = model_DNN.evaluate(X_test, Y_test, verbose=1)\n",
    "\n",
    "# print performance\n",
    "print()\n",
    "print('Test loss:', score[0])\n",
    "print('Test accuracy:', score[1])\n",
    "\n",
    "# look into training history\n",
    "\n",
    "# summarize history for accuracy\n",
    "plt.plot(history.history['accuracy'])\n",
    "plt.plot(history.history['val_accuracy'])\n",
    "plt.ylabel('model accuracy')\n",
    "plt.xlabel('epoch')\n",
    "plt.legend(['train', 'test'], loc='best')\n",
    "plt.savefig('plots_DNN_SUSY/acc1.png')\n",
    "plt.show()\n",
    "\n",
    "# summarize history for loss\n",
    "plt.plot(history.history['loss'])\n",
    "plt.plot(history.history['val_loss'])\n",
    "plt.ylabel('model loss')\n",
    "plt.xlabel('epoch')\n",
    "plt.legend(['train', 'test'], loc='best')\n",
    "plt.show()\n"
   ]
  },
  {
   "cell_type": "markdown",
   "metadata": {},
   "source": [
    "# Trials & Results\n",
    "\n",
    "## Trial 1:\n",
    "\n",
    "$N_{train} = 1500000$ <br>\n",
    "$N_{epoch} = 5$ <br>\n",
    "Using information in all 18 columns. <br>\n",
    "### Model:\n",
    "\n",
    "<img src=\"plots_DNN_SUSY/dnn1.png\" height=400 width=400 /> \n",
    "\n",
    "### Results:\n",
    "$79.83\\%$ test accuracy\n",
    "<img src=\"plots_DNN_SUSY/acc1.png\" height=400 width=400/>\n"
   ]
  },
  {
   "cell_type": "code",
   "execution_count": null,
   "metadata": {},
   "outputs": [],
   "source": []
  }
 ],
 "metadata": {
  "kernelspec": {
   "display_name": "Python 3",
   "language": "python",
   "name": "python3"
  },
  "language_info": {
   "codemirror_mode": {
    "name": "ipython",
    "version": 3
   },
   "file_extension": ".py",
   "mimetype": "text/x-python",
   "name": "python",
   "nbconvert_exporter": "python",
   "pygments_lexer": "ipython3",
   "version": "3.7.3"
  }
 },
 "nbformat": 4,
 "nbformat_minor": 2
}
