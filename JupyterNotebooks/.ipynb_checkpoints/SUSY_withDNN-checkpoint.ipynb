{
 "cells": [
  {
   "cell_type": "markdown",
   "metadata": {},
   "source": [
    "# Using A DNN To Discriminate Signal & Background Events in SUSY Dataset\n",
    "\n",
    "Here, using the Keras module, we deploy a DNN and try to distinguish signal & background events in SUSY dataset, located at https://archive.ics.uci.edu/ml/machine-learning-databases/00279/."
   ]
  },
  {
   "cell_type": "code",
   "execution_count": 1,
   "metadata": {},
   "outputs": [],
   "source": [
    "# Importing the SUSY Data set\n",
    "import sys, os\n",
    "import pandas as pd\n",
    "\n",
    "import numpy as np\n",
    "import warnings\n",
    "#Commnet the next line on to turn off warnings\n",
    "#warnings.filterwarnings('ignore')\n",
    "\n",
    "\n",
    "seed=12\n",
    "np.random.seed(seed)\n",
    "import tensorflow as tf\n",
    "# suppress tflow compilation warnings\n",
    "os.environ['TF_CPP_MIN_LOG_LEVEL'] = '2'\n",
    "\n",
    "tf.set_random_seed(seed)\n",
    "\n",
    "# Download the SUSY.csv (about 2GB) from UCI ML archive and save it in the same directory as this jupyter notebook\n",
    "# See: https://archive.ics.uci.edu/ml/machine-learning-databases/00279/\n",
    "filename=\"datasets/SUSY.csv\"\n",
    "#filename=os.path.expanduser('~')+'/ML_review/SUSY_data/SUSY.csv' \n",
    "\n",
    "columns=[\"signal\", \"lepton 1 pT\", \"lepton 1 eta\", \"lepton 1 phi\", \"lepton 2 pT\", \"lepton 2 eta\", \n",
    "         \"lepton 2 phi\", \"missing energy magnitude\", \"missing energy phi\", \"MET_rel\", \n",
    "         \"axial MET\", \"M_R\", \"M_TR_2\", \"R\", \"MT2\", \"S_R\", \"M_Delta_R\", \"dPhi_r_b\", \"cos(theta_r1)\"]\n",
    "\n",
    "# Load 1,500,000 rows as train data, 50,000 as test data\n",
    "df_train=pd.read_csv(filename,names=columns,nrows=1500000,engine='python')\n",
    "df_test=pd.read_csv(filename,names=columns,nrows=50000, skiprows=1500000,engine='python')"
   ]
  },
  {
   "cell_type": "markdown",
   "metadata": {},
   "source": [
    "## Explore the Data\n",
    "\n",
    "Taking a look at the SUSY data, exploring columns and features."
   ]
  },
  {
   "cell_type": "code",
   "execution_count": 2,
   "metadata": {},
   "outputs": [
    {
     "name": "stdout",
     "output_type": "stream",
     "text": [
      "   signal  lepton 1 pT  lepton 1 eta  lepton 1 phi  lepton 2 pT  lepton 2 eta  \\\n",
      "0     0.0     0.972861      0.653855      1.176225     1.157156     -1.739873   \n",
      "1     1.0     1.667973      0.064191     -1.225171     0.506102     -0.338939   \n",
      "2     1.0     0.444840     -0.134298     -0.709972     0.451719     -1.613871   \n",
      "3     1.0     0.381256     -0.976145      0.693152     0.448959      0.891753   \n",
      "4     1.0     1.309996     -0.690089     -0.676259     1.589283     -0.693326   \n",
      "\n",
      "   lepton 2 phi  missing energy magnitude  missing energy phi   MET_rel  \\\n",
      "0     -0.874309                  0.567765           -0.175000  0.810061   \n",
      "1      1.672543                  3.475464           -1.219136  0.012955   \n",
      "2     -0.768661                  1.219918            0.504026  1.831248   \n",
      "3     -0.677328                  2.033060            1.533041  3.046260   \n",
      "4      0.622907                  1.087562           -0.381742  0.589204   \n",
      "\n",
      "   axial MET       M_R    M_TR_2         R       MT2       S_R  M_Delta_R  \\\n",
      "0  -0.252552  1.921887  0.889637  0.410772  1.145621  1.932632   0.994464   \n",
      "1   3.775174  1.045977  0.568051  0.481928  0.000000  0.448410   0.205356   \n",
      "2  -0.431385  0.526283  0.941514  1.587535  2.024308  0.603498   1.562374   \n",
      "3  -1.005285  0.569386  1.015211  1.582217  1.551914  0.761215   1.715464   \n",
      "4   1.365479  1.179295  0.968218  0.728563  0.000000  1.083158   0.043429   \n",
      "\n",
      "   dPhi_r_b  cos(theta_r1)  \n",
      "0  1.367815       0.040714  \n",
      "1  1.321893       0.377584  \n",
      "2  1.135454       0.180910  \n",
      "3  1.492257       0.090719  \n",
      "4  1.154854       0.094859  \n",
      "Number of columns in the dataset: 19\n"
     ]
    }
   ],
   "source": [
    "# Show the first 5 entries of the training set\n",
    "print(df_train.head())\n",
    "n_columns = len(df_train.columns)\n",
    "print('Number of columns in the dataset: %d' % n_columns)"
   ]
  },
  {
   "cell_type": "markdown",
   "metadata": {},
   "source": [
    "## Creating a DNN\n",
    "\n",
    "Here, we create a DNN using layers defined in Keras module."
   ]
  },
  {
   "cell_type": "code",
   "execution_count": 4,
   "metadata": {},
   "outputs": [
    {
     "name": "stderr",
     "output_type": "stream",
     "text": [
      "Using TensorFlow backend.\n"
     ]
    }
   ],
   "source": [
    "import keras\n",
    "from keras.utils import to_categorical\n",
    "from keras.models import Sequential\n",
    "from keras.layers import Dense, Dropout, Flatten, BatchNormalization\n",
    "from matplotlib import pyplot as plt"
   ]
  },
  {
   "cell_type": "code",
   "execution_count": 5,
   "metadata": {},
   "outputs": [],
   "source": [
    "num_classes = 2 # signal or background\n",
    "num_parameters = n_columns-1 # number of columns to use\n",
    "\n",
    "num_train_samples = 1500000\n",
    "\n",
    "train_labels = df_train.iloc[:num_train_samples,0]\n",
    "test_labels = df_test.iloc[:,0]\n",
    "\n",
    "Y_train = to_categorical(train_labels, num_classes)\n",
    "Y_test = to_categorical(test_labels, num_classes)\n",
    "\n",
    "X_train = df_train.iloc[:num_train_samples,1:num_parameters+1]\n",
    "X_test = df_test.iloc[:,1:num_parameters+1]\n",
    "\n",
    "X_train = X_train.astype('float32')\n",
    "X_test = X_test.astype('float32')\n"
   ]
  },
  {
   "cell_type": "markdown",
   "metadata": {},
   "source": [
    "## Create and visualize the model"
   ]
  },
  {
   "cell_type": "code",
   "execution_count": 9,
   "metadata": {},
   "outputs": [
    {
     "name": "stdout",
     "output_type": "stream",
     "text": [
      "Model architecture created successfully!\n"
     ]
    }
   ],
   "source": [
    "def create_DNN(dropout_rate=0.5, add_batchnorm=False):\n",
    "    '''Create the Deep Neural Network.'''\n",
    "    # instantiate model\n",
    "    model = Sequential()\n",
    "    # add a dense all-to-all relu layer\n",
    "    model.add(Dense(250,input_shape=(num_parameters,), activation='relu'))\n",
    "    # add a dense all-to-all relu layer\n",
    "    model.add(Dense(500, activation='relu'))\n",
    "    if add_batchnorm:\n",
    "        # add a batch-norm layer\n",
    "        model.add(BatchNormalization())\n",
    "    # add a dense all-to-all relu layer\n",
    "    model.add(Dense(250, activation='relu'))\n",
    "    # apply dropout \n",
    "    model.add(Dropout(dropout_rate))\n",
    "    # soft-max layer\n",
    "    model.add(Dense(num_classes, activation='softmax'))\n",
    "    \n",
    "    return model\n",
    "    \n",
    "print('Model architecture created successfully!')\n"
   ]
  },
  {
   "cell_type": "code",
   "execution_count": 10,
   "metadata": {},
   "outputs": [
    {
     "name": "stdout",
     "output_type": "stream",
     "text": [
      "Learning rate: 0.010000\n",
      "Model compiled successfully and ready to be trained.\n"
     ]
    }
   ],
   "source": [
    "def compile_model(optimizer=keras.optimizers.Adam(), dropout_rate=0.5, add_batchnorm=False):\n",
    "    # create the mode\n",
    "    model=create_DNN(dropout_rate, add_batchnorm)\n",
    "    # visualize the model\n",
    "    #print(model.summary())\n",
    "    # compile the model\n",
    "    model.compile(loss=keras.losses.binary_crossentropy,\n",
    "                  optimizer=optimizer,\n",
    "                  metrics=['accuracy'])\n",
    "    return model\n",
    "\n",
    "def compile_model_lr(lr_rate=0.001):\n",
    "    '''Create and compile the DNN model using Adagrad optimizer\n",
    "       and a dropout rate of 0.4.\n",
    "       Learning rate can be tweaked using this function.'''\n",
    "    # create the mode\n",
    "    model=create_DNN(dropout_rate=0.4)\n",
    "    # visualize the model\n",
    "    #print(model.summary())\n",
    "    # compile the model\n",
    "    model.compile(loss=keras.losses.binary_crossentropy,\n",
    "                  optimizer=keras.optimizers.Adagrad(lr=lr_rate),\n",
    "                  metrics=['accuracy'])\n",
    "    return model\n",
    "\n",
    "# training parameters\n",
    "batch_size = 64\n",
    "epochs = 5\n",
    "\n",
    "# create the deep neural net\n",
    "model_DNN=compile_model(optimizer=keras.optimizers.Adagrad(lr=0.01), dropout_rate=0.3)\n",
    "\n",
    "# print current learning rate\n",
    "print('Learning rate: %f' % keras.backend.eval(model_DNN.optimizer.lr))\n",
    "\n",
    "\n",
    "print('Model compiled successfully and ready to be trained.')\n",
    "\n"
   ]
  },
  {
   "cell_type": "markdown",
   "metadata": {},
   "source": [
    "## Fit the model"
   ]
  },
  {
   "cell_type": "code",
   "execution_count": 11,
   "metadata": {},
   "outputs": [
    {
     "name": "stdout",
     "output_type": "stream",
     "text": [
      "Train on 1500000 samples, validate on 50000 samples\n",
      "Epoch 1/5\n",
      "1500000/1500000 [==============================] - 50s 33us/step - loss: 0.4336 - accuracy: 0.7999 - val_loss: 0.4301 - val_accuracy: 0.8009\n",
      "Epoch 2/5\n",
      "1500000/1500000 [==============================] - 50s 33us/step - loss: 0.4285 - accuracy: 0.8026 - val_loss: 0.4293 - val_accuracy: 0.8021\n",
      "Epoch 3/5\n",
      "1500000/1500000 [==============================] - 50s 33us/step - loss: 0.4271 - accuracy: 0.8032 - val_loss: 0.4277 - val_accuracy: 0.8025\n",
      "Epoch 4/5\n",
      "1500000/1500000 [==============================] - 49s 33us/step - loss: 0.4263 - accuracy: 0.8037 - val_loss: 0.4275 - val_accuracy: 0.8027\n",
      "Epoch 5/5\n",
      "1500000/1500000 [==============================] - 48s 32us/step - loss: 0.4257 - accuracy: 0.8040 - val_loss: 0.4266 - val_accuracy: 0.8031\n"
     ]
    }
   ],
   "source": [
    "# train DNN and store training info in history\n",
    "history=model_DNN.fit(X_train, Y_train,\n",
    "          batch_size=batch_size,\n",
    "          epochs=epochs,\n",
    "          verbose=1,\n",
    "          validation_data=(X_test, Y_test))"
   ]
  },
  {
   "cell_type": "markdown",
   "metadata": {},
   "source": [
    "Evaluating the model performance on unseen data."
   ]
  },
  {
   "cell_type": "code",
   "execution_count": 24,
   "metadata": {},
   "outputs": [
    {
     "name": "stdout",
     "output_type": "stream",
     "text": [
      "50000/50000 [==============================] - 2s 39us/step\n",
      "\n",
      "Test loss: 0.4273193122291565\n",
      "Test accuracy: 0.8022199869155884\n"
     ]
    },
    {
     "data": {
      "image/png": "[encoded data removed]",
      "text/plain": [
       "<Figure size 432x288 with 1 Axes>"
      ]
     },
     "metadata": {
      "needs_background": "light"
     },
     "output_type": "display_data"
    },
    {
     "data": {
      "image/png": "[encoded data removed]",
      "text/plain": [
       "<Figure size 432x288 with 1 Axes>"
      ]
     },
     "metadata": {
      "needs_background": "light"
     },
     "output_type": "display_data"
    }
   ],
   "source": [
    "# evaluate model\n",
    "score = model_DNN.evaluate(X_test, Y_test, verbose=1)\n",
    "\n",
    "# print performance\n",
    "print()\n",
    "print('Test loss:', score[0])\n",
    "print('Test accuracy:', score[1])\n",
    "\n",
    "# look into training history\n",
    "\n",
    "# summarize history for accuracy\n",
    "plt.plot(history.history['accuracy'])\n",
    "plt.plot(history.history['val_accuracy'])\n",
    "plt.ylabel('model accuracy')\n",
    "plt.xlabel('epoch')\n",
    "plt.legend(['train', 'test'], loc='best')\n",
    "plt.savefig('plots_DNN_SUSY/acc1.png')\n",
    "plt.show()\n",
    "\n",
    "# summarize history for loss\n",
    "plt.plot(history.history['loss'])\n",
    "plt.plot(history.history['val_loss'])\n",
    "plt.ylabel('model loss')\n",
    "plt.xlabel('epoch')\n",
    "plt.legend(['train', 'test'], loc='best')\n",
    "plt.show()\n"
   ]
  },
  {
   "cell_type": "markdown",
   "metadata": {},
   "source": [
    "## Grid Search for Hyperparameter Tuning"
   ]
  },
  {
   "cell_type": "code",
   "execution_count": 15,
   "metadata": {},
   "outputs": [],
   "source": [
    "from sklearn.model_selection import GridSearchCV\n",
    "from keras.wrappers.scikit_learn import KerasClassifier"
   ]
  },
  {
   "cell_type": "code",
   "execution_count": null,
   "metadata": {},
   "outputs": [],
   "source": [
    "# Wrap the Keras model \n",
    "neural_network = KerasClassifier(build_fn=compile_model, # change to compile_model_lr to run grid_2\n",
    "                                 epochs=1,\n",
    "                                 batch_size=batch_size,\n",
    "                                 verbose=1)\n",
    "\n",
    "# Create hyperparameter space\n",
    "\n",
    "lr_rates = np.logspace(-4,-1,4)\n",
    "optimizers = ['RMSprop', 'Adagrad', 'Adam']\n",
    "dropout_rates = [0.3,0.4,0.5]\n",
    "add_batchnorm = [True, False] \n",
    "\n",
    "\n",
    "\n",
    "param_grid = dict(optimizer=optimizers, dropout_rate=dropout_rates)\n",
    "param_grid_2 = dict(lr_rate=lr_rates)\n",
    "\n",
    "# Do the grid search\n",
    "grid_1 = GridSearchCV(estimator=neural_network, param_grid=param_grid, n_jobs=1, cv=3)\n",
    "grid_result_1 = grid_1.fit(X_test, Y_test)\n",
    "\n",
    "#grid_2 = GridSearchCV(estimator=neural_network, param_grid=param_grid_2, n_jobs=1, cv=3)\n",
    "#grid_result_2 = grid_2.fit(X_test, Y_test)\n",
    "\n",
    "\n",
    "\n"
   ]
  },
  {
   "cell_type": "markdown",
   "metadata": {},
   "source": [
    "## Visualize the grid search results\n",
    "### Dropout Rate and Optimizer:"
   ]
  },
  {
   "cell_type": "code",
   "execution_count": 21,
   "metadata": {},
   "outputs": [
    {
     "name": "stdout",
     "output_type": "stream",
     "text": [
      "Best: 0.794460 using {'dropout_rate': 0.3, 'optimizer': 'Adagrad'}\n"
     ]
    },
    {
     "data": {
      "image/png": "[encoded data removed]",
      "text/plain": [
       "<Figure size 432x288 with 2 Axes>"
      ]
     },
     "metadata": {
      "needs_background": "light"
     },
     "output_type": "display_data"
    }
   ],
   "source": [
    "# Summarize results\n",
    "print('Best: %f using %s' % (grid_result_1.best_score_, grid_result_1.best_params_))\n",
    "\n",
    "means = grid_result_1.cv_results_['mean_test_score']\n",
    "stds = grid_result_1.cv_results_['std_test_score']\n",
    "params = grid_result_1.cv_results_['params']\n",
    "\n",
    "\n",
    "#for mean, std, param in zip(means, stds, params):\n",
    "#    print('%f (%f) with: %r' % (mean, std, param))\n",
    "    \n",
    "plt.imshow(means.reshape(3,3))\n",
    "plt.xticks([0, 1, 2,], optimizers)\n",
    "plt.xlabel('Optimizer')\n",
    "plt.yticks([0, 1, 2], dropout_rates)\n",
    "plt.ylabel('Dropout Rate')\n",
    "plt.title('Mean Test Acc.')\n",
    "plt.colorbar()\n",
    "plt.savefig('plots_DNN_SUSY/gridsearch_droprate_optimizer.png')\n",
    "\n",
    "\n",
    "\n"
   ]
  },
  {
   "cell_type": "markdown",
   "metadata": {},
   "source": [
    "### Learning Rate:"
   ]
  },
  {
   "cell_type": "code",
   "execution_count": 18,
   "metadata": {},
   "outputs": [
    {
     "data": {
      "image/png": "[encoded data removed]",
      "text/plain": [
       "<Figure size 432x288 with 1 Axes>"
      ]
     },
     "metadata": {
      "needs_background": "light"
     },
     "output_type": "display_data"
    }
   ],
   "source": [
    "# Compare learning rates\n",
    "\n",
    "means_lr = grid_result_2.cv_results_['mean_test_score']\n",
    "\n",
    "plt.semilogx(lr_rates, means_lr, 'o')\n",
    "plt.xlabel('Learning rate')\n",
    "plt.ylabel('Mean test acc.')\n",
    "plt.grid(1)\n",
    "plt.savefig('plots_DNN_SUSY/gridsearch_learningrate.png')\n"
   ]
  },
  {
   "cell_type": "markdown",
   "metadata": {},
   "source": [
    "# Trials & Results\n",
    "\n",
    "## Grid Search Results\n",
    "\n",
    "Using initial model, we performed a grid search for an attempt to find the optimal dropout rate and optimizer. Best mean test accuracy was $79.45\\%$, with a dropout rate of 0.3 and optimizer Adagrad.\n",
    "\n",
    "<img src=\"plots_DNN_SUSY/gridsearch_droprate_optimizer.png\"/>\n",
    "\n",
    "Using the most optimal dropout rate and optimizer found, we also scan learning rate values ranging from $10^{-4}$ to $10^{-1}$. Mean test accuracies for each learning rate can be found in the figure below.\n",
    "\n",
    "<img src=\"plots_DNN_SUSY/gridsearch_learningrate.png\"/>\n",
    "\n",
    "From the figure, optimal learning rate is determined to be $10^{-2}$.\n",
    "\n",
    "## Trial 1:\n",
    "\n",
    "Using the Adagrad optimizer with learning rate $10^{-2}$, and a dropout rate of 0.3, we trained the model using 1.5M training samples. \n",
    "\n",
    "### The architecture:\n",
    "\n",
    "<img src=\"plots_DNN_SUSY/model1.png\" height=400 width=400/>\n",
    "\n",
    "### Performance:\n",
    "\n",
    "Test accuracy was $80.22\\%$ with 5 epochs.\n",
    "\n",
    "<img src=\"plots_DNN_SUSY/acc1.png\" height=400 width=400/>\n",
    "\n"
   ]
  },
  {
   "cell_type": "markdown",
   "metadata": {},
   "source": [
    "## Trial 2:\n",
    "\n",
    "Using Adam optimizer with learning rate $10^{-3}$, and a dropout rate of 0.4 the model shown below is defined for 25 epochs with 4.95M samples.\n",
    "\n",
    "### The architecture:\n",
    "\n",
    "<img src=\"plots_DNN_SUSY/model2.png\" height=400 width=400/>\n",
    "\n",
    "### Performance:\n",
    "\n",
    "Test accuracy: $80.57 \\%$\n",
    "\n",
    "<img src=\"plots_DNN_SUSY/training_495m.png\" height=500 width=500/>\n"
   ]
  },
  {
   "cell_type": "code",
   "execution_count": null,
   "metadata": {},
   "outputs": [],
   "source": []
  }
 ],
 "metadata": {
  "kernelspec": {
   "display_name": "Python 3",
   "language": "python",
   "name": "python3"
  },
  "language_info": {
   "codemirror_mode": {
    "name": "ipython",
    "version": 3
   },
   "file_extension": ".py",
   "mimetype": "text/x-python",
   "name": "python",
   "nbconvert_exporter": "python",
   "pygments_lexer": "ipython3",
   "version": "3.7.3"
  }
 },
 "nbformat": 4,
 "nbformat_minor": 2
}
