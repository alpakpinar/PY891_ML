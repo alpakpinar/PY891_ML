{
 "cells": [
  {
   "cell_type": "markdown",
   "metadata": {},
   "source": [
    "# Notebook 7: Logistic Regression and SoftMax for MNIST"
   ]
  },
  {
   "cell_type": "markdown",
   "metadata": {},
   "source": [
    "## Learning Goal\n",
    "\n",
    "The goal of this notebook is to familiarize the reader with SoftMax regression (a generalization of logistic regression to more than two categories), categorical predictions, and the MNIST handwritten dataset. The reader will understand how to use the Scikit Logistic regression package and visualize learned weights.\n",
    "\n",
    "## Overview\n",
    "### The MNIST dataset:\n",
    "The MNIST classification problem is one of the classical ML problems for learning classification on high-dimensional data with a fairly sizable number of examples (60000). Yann LeCun and collaborators collected and processed $70000$ handwritten digits (60000 are used for training and 10000 for testing) to produce what became known as one of the most widely used datasets in ML: the [MNIST](http://yann.lecun.com/exdb/mnist/) dataset. Each handwritten digit comes in a grayscale square image in the shape of a $28\\times 28$ pixel grid. Every pixel takes a value in the range $[0,255]$, representing $256$ nuances of the gray color. The problem of image classification finds applications in a wide range of fields and is important for numerous industry applications of ML. \n",
    "### SoftMax regression:\n",
    "We will use SoftMax regression, which can be thought of as a statistical model which assigns a probability that a given input image corresponds to any of the 10 handwritten digits. The model is a generalization of the logistic regression and reads:\n",
    "\\begin{align}\n",
    "p(y=i|\\boldsymbol{x};W) = \\frac{e^{\\boldsymbol{w}_i^T \\boldsymbol{x}}}{\\sum_{j=0}^9 e^{\\boldsymbol{w}_j^T}},\n",
    "\\end{align}\n",
    "Where $p(y=i|\\boldsymbol{x};W)$ is the probability that input $\\boldsymbol{x}$ is the $i$-th digit, $i\\in[0,9]$.\n",
    "The model also has 10 weight vectors $\\boldsymbol{w}_i$ which we will train below. Finally, one can use this information for prediction by taking the value of $y$ for which this probability is maximized:\n",
    "\\begin{align}\n",
    "y_{pred}=\\arg\\max_i p(y=i|\\boldsymbol{x})\n",
    "\\end{align}\n",
    "\n",
    "## Numerical Experiments\n",
    "\n",
    "The reader is invited to check out the code below to build up their intuition about SoftMax regression. The following notebook is a slight modification of [this Scikit tutorial](http://scikit-learn.org/dev/auto_examples/linear_model/plot_sparse_logistic_regression_mnist.html) by Arthur Mensch on studying the MNIST problem using Logistic Regression."
   ]
  },
  {
   "cell_type": "code",
   "execution_count": 15,
   "metadata": {
    "scrolled": true
   },
   "outputs": [
    {
     "name": "stdout",
     "output_type": "stream",
     "text": [
      "Automatically created module for IPython interactive environment\n",
      "Example run in 19.472 s\n",
      "Sparsity with L2 penalty: 22.58%\n",
      "Test score with L2 penalty: 0.8490\n"
     ]
    }
   ],
   "source": [
    "import time\n",
    "import numpy as np\n",
    "\n",
    "from sklearn.datasets import fetch_openml # MNIST data\n",
    "from sklearn.linear_model import LogisticRegression\n",
    "from sklearn.model_selection import train_test_split\n",
    "from sklearn.preprocessing import StandardScaler\n",
    "from sklearn.utils import check_random_state\n",
    "\n",
    "print(__doc__)\n",
    "\n",
    "# Turn down for faster convergence\n",
    "t0 = time.time()\n",
    "train_size = 1000\n",
    "test_size = 10000\n",
    "\n",
    "### load MNIST data from https://www.openml.org/d/554\n",
    "X, y = fetch_openml('mnist_784', version=1, return_X_y=True)\n",
    "\n",
    "# shuffle data\n",
    "random_state = check_random_state(0)\n",
    "permutation = random_state.permutation(X.shape[0])\n",
    "X = X[permutation]\n",
    "y = y[permutation]\n",
    "X = X.reshape((X.shape[0], -1))\n",
    "\n",
    "# pick training and test data sets \n",
    "X_train, X_test, y_train, y_test = train_test_split(X,y,train_size=train_size,test_size=test_size)\n",
    "\n",
    "# scale data to have zero mean and unit variance [required by regressor]\n",
    "scaler = StandardScaler()\n",
    "X_train = scaler.fit_transform(X_train)\n",
    "X_test = scaler.transform(X_test)\n",
    "\n",
    "# apply logistic regressor with 'sag' solver, C is the inverse regularization strength\n",
    "clf = LogisticRegression(C=1e5,\n",
    "                         multi_class='multinomial',\n",
    "                         penalty='l2', solver='sag', tol=0.1)\n",
    "# fit data\n",
    "clf.fit(X_train, y_train)\n",
    "# percentage of nonzero weights\n",
    "sparsity = np.mean(clf.coef_ == 0) * 100\n",
    "# compute accuracy\n",
    "score = clf.score(X_test, y_test)\n",
    "\n",
    "#display run time\n",
    "run_time = time.time() - t0\n",
    "print('Example run in %.3f s' % run_time)\n",
    "\n",
    "print(\"Sparsity with L2 penalty: %.2f%%\" % sparsity)\n",
    "print(\"Test score with L2 penalty: %.4f\" % score)"
   ]
  },
  {
   "cell_type": "code",
   "execution_count": 16,
   "metadata": {},
   "outputs": [
    {
     "data": {
      "image/png": "[encoded data removed]",
      "text/plain": [
       "<Figure size 720x360 with 10 Axes>"
      ]
     },
     "metadata": {},
     "output_type": "display_data"
    }
   ],
   "source": [
    "%matplotlib inline\n",
    "import matplotlib.pyplot as plt\n",
    "\n",
    "# plot weights vs the pixel position\n",
    "coef = clf.coef_.copy()\n",
    "plt.figure(figsize=(10, 5))\n",
    "scale = np.abs(coef).max()\n",
    "for i in range(10):\n",
    "    l2_plot = plt.subplot(2, 5, i + 1)\n",
    "    l2_plot.imshow(coef[i].reshape(28, 28), interpolation='nearest',\n",
    "                   cmap=plt.cm.Greys, vmin=-scale, vmax=scale)\n",
    "    l2_plot.set_xticks(())\n",
    "    l2_plot.set_yticks(())\n",
    "    l2_plot.set_xlabel('Class %i' % i)\n",
    "plt.suptitle('classification weights vector $w_j$ for digit class $j$')\n",
    "plt.savefig('plots7/weights_training_1000.png')\n",
    "\n",
    "plt.show()"
   ]
  },
  {
   "cell_type": "markdown",
   "metadata": {
    "collapsed": true
   },
   "source": [
    "### Exercises: ###  \n",
    "<ul>\n",
    "<li> The snippet above invoked the \"sag\" solver which only deals with $L2$ regularization. Try another solver, e.g. 'liblinear', in scikit that supports $L1$ regularization. You can find more details on <a href=\"http://scikit-learn.org/stable/modules/generated/sklearn.linear_model.LogisticRegression.html\"> http://scikit-learn.org/stable/modules/generated/sklearn.linear_model.LogisticRegression.html.</a>\n",
    "<li> Visualize the misclassified samples. Analyze on how logistic regression performs on MNIST, and note this since we will study the MNIST problem later on using deep neural nets.\n",
    "\n",
    "<li> Try to vary the size of the training set and see how that affects the accuracy.\n",
    "<li>  [Theory] In this notebook, we considered a $K=10$ multi-class logistic regression (MLR) also known as the SoftMax regression. Recall that the our model reads:\n",
    "$$\n",
    "p(y=i|\\boldsymbol{x};W) = \\frac{e^{\\boldsymbol{w}_i^T \\boldsymbol{x}}}{\\sum_{j=0}^9 e^{\\boldsymbol{w}_j^T \\boldsymbol{x}}}\n",
    "$$\n",
    "Use this to construct the likelihood function $P(y|\\boldsymbol{x})$.\n",
    "\n",
    "<li> [Theory] Now consider we're given a set of i.i.d. data $\\mathcal{D}=\\{(\\boldsymbol{x}_1,y_1),\\cdots, (\\boldsymbol{x}_n,y_n)\\}$. As we argued in the main text, the cross-entropy error used in logistic regression is motivated by maximizing the likelihood (or equivalently, minimizing the negative log-likelihood), find the corresponding error function $E(\\boldsymbol{w}_0,\\cdots,\\boldsymbol{w}_9)$ in MLR using the hypothesis above. \n",
    "\n",
    "<li> [Theory] Using the error function derived above, calculate its gradient $\\frac{\\partial E}{\\partial \\boldsymbol{w}_k}$. Can you find an elegant way of writing the gradient?\n",
    "</ul>\n"
   ]
  },
  {
   "cell_type": "markdown",
   "metadata": {},
   "source": [
    "## Answers To Exercises\n",
    "\n",
    "- Instead of using sag solver, we tried using saga solver. For the weights for each class, we got the following results: \n",
    "\n",
    "<img src=\"plots7/weights_solver_saga.png\"/>\n",
    "\n",
    "The performance of this classifier is comparable to the sag solver. We observe that there is a bit less sparsity, with a sparsity of $8.93\\%$, and the test score is a bit lower but very similar to sag, the score being $88.34\\%$.\n",
    "\n",
    "If we try newton-cg solver, we get the following results:\n",
    "\n",
    "<img src=\"plots7/weights_solver_newton-cg.png\"/>\n",
    "\n",
    "We get a good test score, $\\sim 91\\%$, but from the plots we can observe that the model doesn't do a good job in distinguishing different digits."
   ]
  },
  {
   "cell_type": "markdown",
   "metadata": {},
   "source": [
    "- Using the sag solver with $N_{train}=5000$, we get the following resultant weights for each class:\n",
    "\n",
    "<img src=\"plots7/weights_training_5000.png\"/>\n",
    "\n",
    "Here, the accuracy of the model drops as expected, to $87.6\\%$. This is not a big reduction in performance, but we see the resultant images are little more fuzzy compared to the original ones with $N_{train}=50000$.\n",
    "\n",
    "If we further lower the number of training samples to 1000, the accuracy drops even further to $84.9\\%$, and we get the following weights: \n",
    "\n",
    "<img src=\"plots7/weights_training_1000.png\"/>\n",
    "\n",
    "One can observe that the resulting weights are even more fuzzy compared to the previous cases with $N_{train}=5000,50000$."
   ]
  },
  {
   "cell_type": "markdown",
   "metadata": {},
   "source": [
    "- We have that the probability that ith data point corresponds to the mth class is given by the following relationship:\n",
    "\n",
    "$P(y_{im}=1|x_i, \\{\\omega_m\\}) = \\frac{e^{-x_i^T \\omega_m}}{\\sum_{m=0}^{M-1} e^{-x_i^T \\omega_m}}$ <br>\n",
    "\n",
    "Taking into account all $N$ data points and $10$ classes, the likelihood of this dataset becomes: <br>\n",
    "\n",
    "$P(D|x_i, \\{ \\omega_m \\}) = \\prod_{i=1}^N \\prod_{m=0}^{9} P[y_{im}=1|x_i, \\{\\omega_m\\}]^{y_{im}} \\times [1 - P(y_{im}=1|x_i, \\{\\omega_m\\})]^{1-y_{im}} $ with $P(y_{im}=1|x_i, \\{\\omega_m\\})$ is given by the equation above.\n",
    "\n",
    "- Taking the logarithm of the expression above, we get <br>\n",
    "\n",
    "$\\log{P} = \\sum_{i=1}^N \\sum_{m=0}^{9} y_{im} \\log{P(y_{im}=1|x_i, \\{\\omega_m\\})} + (1-y_{im}) \\log{[1 - P(y_{im}=1|x_i, \\{\\omega_m\\})]}$ <br>\n",
    "\n",
    "The cross-entropy is the negative log-likelihood:\n",
    "\n",
    "$E(\\omega_0, ..., \\omega_9) = - \\log{P} = - \\sum_{i=1}^N \\sum_{m=0}^{9} y_{im} \\log{P(y_{im}=1|x_i, \\{\\omega_m\\})} + (1-y_{im}) \\log{[1 - P(y_{im}=1|x_i, \\{\\omega_m\\})]}$ <br>\n"
   ]
  },
  {
   "cell_type": "markdown",
   "metadata": {},
   "source": [
    "- Taking the derivative of the above expression with respect to $\\omega_{k}$, we obtain <br>\n",
    "\n",
    "$\\frac{\\partial E}{\\partial \\omega_{k}} = \\sum_{i=1}^N \\sum_{m=0}^9 y_{im} \\frac{\\partial \\log{P}}{\\partial \\omega_k} - (1-y_{im}) \\frac{1}{1-P} \\frac{\\partial P}{\\partial \\omega_k}$ <br>\n",
    "\n",
    "Calculating $\\frac{\\partial \\log{P}}{\\partial \\omega_k}$: <br>\n",
    "\n",
    "$\\frac{\\partial \\log{P}}{\\partial \\omega_k} = -\\vec{x_k} + \\frac{e^{\\vec{\\omega_k}\\cdot{\\vec{x_i}}}}{\\sum_{m=0}^9 e^{-\\vec{\\omega_m}\\cdot{\\vec{x_i}}}}\\vec{x_k}$ and we also have $\\frac{\\partial \\log{P}}{\\partial \\omega_k} = \\frac{1}{P}\\frac{\\partial P}{\\partial \\omega_k}$ <br>\n",
    "\n",
    "Substituting those two equations into the gradient of the cross-entropy: <br>\n",
    "\n",
    "$\\frac{\\partial E}{\\partial \\omega_{k}} = \\sum_{im} \\left( \\frac{e^{\\vec{\\omega_k} \\cdot \\vec{x_i}}}{\\sum_{m=0}^9{e^{\\vec{\\omega_m}\\cdot\\vec{x_i}}}} \\right) \\frac{y_{im}-P}{1-P} \\vec{x}_k$ where $P = P(y_{im}=1|\\vec{x}_i, \\vec{\\omega}_m)$\n"
   ]
  },
  {
   "cell_type": "code",
   "execution_count": null,
   "metadata": {},
   "outputs": [],
   "source": []
  }
 ],
 "metadata": {
  "kernelspec": {
   "display_name": "Python 3",
   "language": "python",
   "name": "python3"
  },
  "language_info": {
   "codemirror_mode": {
    "name": "ipython",
    "version": 3
   },
   "file_extension": ".py",
   "mimetype": "text/x-python",
   "name": "python",
   "nbconvert_exporter": "python",
   "pygments_lexer": "ipython3",
   "version": "3.7.3"
  }
 },
 "nbformat": 4,
 "nbformat_minor": 1
}
