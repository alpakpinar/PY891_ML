{
 "cells": [
  {
   "cell_type": "markdown",
   "metadata": {},
   "source": [
    "# Notebook 6: Phases of the Ising Model with Logistic Regression\n"
   ]
  },
  {
   "cell_type": "markdown",
   "metadata": {},
   "source": [
    "## Learning Goal\n",
    "The goal of this notebook is to show how one can employ Logistic Regression to classify the states of the 2D Ising model according to their phase. We will discuss overfitting, regularization, and learn how to use the scikit-learn library. We will also examine the role of the optimizer in making predictions.\n",
    "\n",
    "## Overview\n",
    "\n",
    "The energy function of the classical Ising model is given by\n",
    "\n",
    "$$ H = -J\\sum_{\\langle ij\\rangle}S_{i}S_j,\\qquad \\qquad S_j\\in\\{\\pm 1\\} $$\n",
    "\n",
    "where the lattice site indices $i,j$ run over all nearest neighbors of a 2D square lattice, and $J$ is some arbitrary interaction energy scale. We adopt periodic boundary conditions. Onsager proved that this model undergoes a thermal phase transition in the thermodynamic limit from an ordered ferromagnet with all spins aligned to a disordered phase at the critical temperature $T_c/J=2/\\log(1+\\sqrt{2})\\approx 2.26$. For any finite system size, this critical point is expanded to a critical region around $T_c$.\n",
    "\n"
   ]
  },
  {
   "cell_type": "markdown",
   "metadata": {},
   "source": [
    "An interesting question to ask is whether one can train a statistical model to distinguish between the two phases of the Ising model. If successful, this can be used to locate the position of the critical point in more complicated models where an exact analytical solution has so far remained elusive. \n",
    "\n",
    "In other words, given an Ising state, we would like to classify whether it belongs to the ordered or the disordered phase, without any additional information other than the spin configuration itself. This categorical machine learning problem is well suited for logistic regression. Notice that, for the purposes of applying logistic regression, the 2D spin state of the Ising model will be flattened out to a 1D array, so it will not be easy to learn information about the structure of the contiguous ordered 2D domains [see figure below]. Such information can be incorporated using other methods such as multi-layer deep convolutional neural networks (CNNs), see Secs. IX, X and XI of the review and the corresponding notebooks.\n",
    "\n",
    "## The 2D Ising Dataset\n",
    "\n",
    "To this end, we consider the 2D Ising model on a $40\\times 40$ square lattice, and use Monte-Carlo (MC) sampling to prepare $10^4$ states at every fixed temperature $T$ out of a pre-defined set $T\\in[0.25,0.5,\\cdots,4.0]$. Using Onsager's criterion, we can assign a label to each state according to its phase: $0$ if the state is disordered, and $1$ if it is ordered. Our goal is to predict the phase of a sample given the spin configuration.\n",
    "\n",
    "It is well-known that, near the critical temperature $T_c$, the ferromagnetic correlation length diverges which, among other things, leads to a critical slowing down of the MC algorithm. Therefore, we expect identifying the phases to be harder in the critical region. With this in mind, consider the following three types of states: ordered ($T/J<2.0$), critical ($2.0\\leq T/J\\leq 2.5)$ and disordered ($T/J>2.5$). We use both ordered and disordered states to train the logistic regressor and once the supervised training procedure is complete, we evaluate the performance of our classification model on unseen ordered, disordered and critical states. "
   ]
  },
  {
   "cell_type": "code",
   "execution_count": 1,
   "metadata": {},
   "outputs": [],
   "source": [
    "import numpy as np\n",
    "\n",
    "import warnings\n",
    "#Comment this to turn on warnings\n",
    "#warnings.filterwarnings('ignore')\n",
    "\n",
    "np.random.seed() # shuffle random seed generator\n",
    "\n",
    "# Ising model parameters\n",
    "L=40 # linear system size\n",
    "J=-1.0 # Ising interaction\n",
    "T=np.linspace(0.25,4.0,16) # set of temperatures\n",
    "T_c=2.26 # Onsager critical temperature in the TD limit"
   ]
  },
  {
   "cell_type": "markdown",
   "metadata": {},
   "source": [
    "# Loading in the Ising dataset\n",
    "We now load in the data which is hosted on Pankaj Mehta's [website](http://physics.bu.edu/~pankajm/MLnotebooks.html)."
   ]
  },
  {
   "cell_type": "code",
   "execution_count": 36,
   "metadata": {},
   "outputs": [],
   "source": [
    "import pickle, os\n",
    "from urllib.request import urlopen \n",
    "\n",
    "# url to data\n",
    "url_main = 'https://physics.bu.edu/~pankajm/ML-Review-Datasets/isingMC/';\n",
    "\n",
    "######### LOAD DATA\n",
    "# The data consists of 16*10000 samples taken in T=np.arange(0.25,4.0001,0.25):\n",
    "data_file_name = \"Ising2DFM_reSample_L40_T=All.pkl\" \n",
    "# The labels are obtained from the following file:\n",
    "label_file_name = \"Ising2DFM_reSample_L40_T=All_labels.pkl\"\n",
    "\n",
    "\n",
    "\n",
    "#DATA\n",
    "data = pickle.load(urlopen(url_main + data_file_name)) # pickle reads the file and returns the Python object (1D array, compressed bits)\n",
    "data = np.unpackbits(data).reshape(-1, 1600) # Decompress array and reshape for convenience\n",
    "data=data.astype('int')\n",
    "data[np.where(data==0)]=-1 # map 0 state to -1 (Ising variable can take values +/-1)\n",
    "\n",
    "#LABELS (convention is 1 for ordered states and 0 for disordered states)\n",
    "labels = pickle.load(urlopen(url_main + label_file_name)) # pickle reads the file and returns the Python object (here just a 1D array with the binary labels)"
   ]
  },
  {
   "cell_type": "markdown",
   "metadata": {},
   "source": [
    "# Constructing the training and the test sets"
   ]
  },
  {
   "cell_type": "code",
   "execution_count": 37,
   "metadata": {},
   "outputs": [
    {
     "name": "stdout",
     "output_type": "stream",
     "text": [
      "(array([1]), array([70000]))\n",
      "(array([0, 1]), array([10000, 20000]))\n",
      "(array([0]), array([60000]))\n",
      "X_train shape: (30000, 1600)\n",
      "Y_train shape: (30000,)\n",
      "\n",
      "30000 train samples\n",
      "30000 critical samples\n",
      "65000 test samples\n"
     ]
    }
   ],
   "source": [
    "from sklearn.model_selection import train_test_split\n",
    "\n",
    "###### define ML parameters\n",
    "num_classes=2\n",
    "train_to_test_ratio=0.5 # training samples\n",
    "\n",
    "# divide data into ordered, critical and disordered\n",
    "X_ordered=data[:70000,:]\n",
    "Y_ordered=labels[:70000]\n",
    "\n",
    "print(np.unique(Y_ordered, return_counts=True))\n",
    "\n",
    "# samples in the critical region 2.0 < T/J < 2.5\n",
    "X_critical=data[70000:100000,:]\n",
    "Y_critical=labels[70000:100000]\n",
    "\n",
    "print(np.unique(Y_critical, return_counts=True))\n",
    "\n",
    "X_disordered=data[100000:,:]\n",
    "Y_disordered=labels[100000:]\n",
    "\n",
    "print(np.unique(Y_disordered, return_counts=True))\n",
    "\n",
    "#del data,labels\n",
    "\n",
    "# define training and test data sets\n",
    "X=np.concatenate((X_ordered,X_disordered))\n",
    "Y=np.concatenate((Y_ordered,Y_disordered))\n",
    "\n",
    "crRegionOnly=True # training/testing samples from critical region only or outside the critical region\n",
    "\n",
    "def prepareTrainTestSamples(X, Y, X_critical, Y_critical, train_to_test_ratio, crRegionOnly=False):\n",
    "    '''Prepare training and testing datasets for the classifiers.\n",
    "    If crRegionOnly=True  : Only 30000 samples in the critical region will be considered.\n",
    "    If crRegionOnly=False : Samples outside of the critical region will be considered.\n",
    "    Returns the train/test spin configurations and the corresponding labels.\n",
    "    '''\n",
    "    if not crRegionOnly:\n",
    "        X_train,X_test,Y_train,Y_test=train_test_split(X,Y,train_size=train_to_test_ratio,test_size=1.0-train_to_test_ratio)\n",
    "    else:\n",
    "        # Prepare training samples only from critical region where 2.0 < T/J < 2.5\n",
    "        X_train, Y_train = X_critical, Y_critical\n",
    "        _,X_test,_,Y_test=train_test_split(X,Y,train_size=train_to_test_ratio,test_size=1.0-train_to_test_ratio)\n",
    "    \n",
    "    return X_train, X_test, Y_train, Y_test\n",
    "\n",
    "X_train, X_test, Y_train, Y_test = prepareTrainTestSamples(X, Y, X_critical, Y_critical, \n",
    "                                                           train_to_test_ratio, crRegionOnly)\n",
    "        \n",
    "# full data set\n",
    "X=np.concatenate((X_critical,X))\n",
    "Y=np.concatenate((Y_critical,Y))\n",
    "\n",
    "print('X_train shape:', X_train.shape)\n",
    "print('Y_train shape:', Y_train.shape)\n",
    "print()\n",
    "print(X_train.shape[0], 'train samples')\n",
    "print(X_critical.shape[0], 'critical samples')\n",
    "print(X_test.shape[0], 'test samples')"
   ]
  },
  {
   "cell_type": "markdown",
   "metadata": {},
   "source": [
    "# Visualizing the states"
   ]
  },
  {
   "cell_type": "code",
   "execution_count": 4,
   "metadata": {},
   "outputs": [
    {
     "data": {
      "image/png": "[encoded data removed]",
      "text/plain": [
       "<Figure size 432x288 with 3 Axes>"
      ]
     },
     "metadata": {
      "needs_background": "light"
     },
     "output_type": "display_data"
    }
   ],
   "source": [
    "##### plot a few Ising states\n",
    "%matplotlib inline\n",
    "import matplotlib.pyplot as plt\n",
    "from mpl_toolkits.axes_grid1 import make_axes_locatable\n",
    "\n",
    "# set colourbar map\n",
    "cmap_args=dict(cmap='plasma_r')\n",
    "\n",
    "# plot states\n",
    "fig, axarr = plt.subplots(nrows=1, ncols=3)\n",
    "\n",
    "axarr[0].imshow(X_ordered[20001].reshape(L,L),**cmap_args)\n",
    "axarr[0].set_title('$\\\\mathrm{ordered\\\\ phase}$',fontsize=16)\n",
    "axarr[0].tick_params(labelsize=16)\n",
    "\n",
    "axarr[1].imshow(X_critical[10001].reshape(L,L),**cmap_args)\n",
    "axarr[1].set_title('$\\\\mathrm{critical\\\\ region}$',fontsize=16)\n",
    "axarr[1].tick_params(labelsize=16)\n",
    "\n",
    "im=axarr[2].imshow(X_disordered[50001].reshape(L,L),**cmap_args)\n",
    "axarr[2].set_title('$\\\\mathrm{disordered\\\\ phase}$',fontsize=16)\n",
    "axarr[2].tick_params(labelsize=16)\n",
    "\n",
    "fig.subplots_adjust(right=2.0)\n",
    "\n",
    "plt.show()"
   ]
  },
  {
   "cell_type": "markdown",
   "metadata": {},
   "source": [
    "## Cost function, optimizers, regularizers, and performance metrics\n",
    "\n",
    "In Sec. VII of the review, we have shown that the cross-entropy is a natural cost function used for training a logistic regressor. As we already mentioned, minimizing it requires the use of numerical toolboxes. Here, we compare the performance of two different optimization routines: a `liblinear` [the default one for scikit's logistic regression], and stochastic gradient descent (SGD) [see Sec. IV of the review for more details].\n",
    "\n",
    "It is important to note that all these methods have built-in regularizers. Indeed, we did not discuss the role of the regularisor explicitly in the context of Logistic Regression extensively, yet this concept is crucial in order to prevent overfitting, and we encourage the interested reader to play with the different regularization types and regularization strengths and compare model performances. \n",
    "\n",
    "Below, we define the accuracy of a classification model on a given data set as the percentage of correctly classified data points. Comparing the accuracy on the training and test data, we obtain a good estimate of the degree of overfitting. Well-trained models do not overfit the data, which is reflected in an almost equal performance on the training and test data sets [recall that the test set consists of samples which the model has not been trained on]. "
   ]
  },
  {
   "cell_type": "markdown",
   "metadata": {},
   "source": [
    "# Run the cell below (this may take several minutes)"
   ]
  },
  {
   "cell_type": "code",
   "execution_count": 18,
   "metadata": {},
   "outputs": [
    {
     "name": "stdout",
     "output_type": "stream",
     "text": [
      "accuracy: train, test, critical\n",
      "liblin: 0.7413, 0.6585, 0.6999\n"
     ]
    },
    {
     "name": "stderr",
     "output_type": "stream",
     "text": [
      "/Users/alpakpinar/anaconda3/lib/python3.7/site-packages/sklearn/linear_model/stochastic_gradient.py:561: ConvergenceWarning: Maximum number of iteration reached before convergence. Consider increasing max_iter to improve the fit.\n",
      "  ConvergenceWarning)\n"
     ]
    },
    {
     "name": "stdout",
     "output_type": "stream",
     "text": [
      "SGD: 0.6683, 0.6057, 0.6370\n",
      "finished computing 1/11 iterations\n",
      "accuracy: train, test, critical\n",
      "liblin: 0.7413, 0.6585, 0.6999\n"
     ]
    },
    {
     "name": "stderr",
     "output_type": "stream",
     "text": [
      "/Users/alpakpinar/anaconda3/lib/python3.7/site-packages/sklearn/linear_model/stochastic_gradient.py:561: ConvergenceWarning: Maximum number of iteration reached before convergence. Consider increasing max_iter to improve the fit.\n",
      "  ConvergenceWarning)\n"
     ]
    },
    {
     "name": "stdout",
     "output_type": "stream",
     "text": [
      "SGD: 0.6871, 0.6199, 0.6535\n",
      "finished computing 2/11 iterations\n",
      "accuracy: train, test, critical\n",
      "liblin: 0.7413, 0.6585, 0.6999\n"
     ]
    },
    {
     "name": "stderr",
     "output_type": "stream",
     "text": [
      "/Users/alpakpinar/anaconda3/lib/python3.7/site-packages/sklearn/linear_model/stochastic_gradient.py:561: ConvergenceWarning: Maximum number of iteration reached before convergence. Consider increasing max_iter to improve the fit.\n",
      "  ConvergenceWarning)\n"
     ]
    },
    {
     "name": "stdout",
     "output_type": "stream",
     "text": [
      "SGD: 0.7349, 0.6585, 0.6967\n",
      "finished computing 3/11 iterations\n",
      "accuracy: train, test, critical\n",
      "liblin: 0.7413, 0.6585, 0.6999\n",
      "SGD: 0.7352, 0.6665, 0.7009\n",
      "finished computing 4/11 iterations\n"
     ]
    },
    {
     "ename": "KeyboardInterrupt",
     "evalue": "",
     "output_type": "error",
     "traceback": [
      "\u001b[0;31m---------------------------------------------------------------------------\u001b[0m",
      "\u001b[0;31mKeyboardInterrupt\u001b[0m                         Traceback (most recent call last)",
      "\u001b[0;32m<ipython-input-18-79c3154a8c1c>\u001b[0m in \u001b[0;36m<module>\u001b[0;34m\u001b[0m\n\u001b[1;32m     24\u001b[0m \u001b[0;34m\u001b[0m\u001b[0m\n\u001b[1;32m     25\u001b[0m     \u001b[0;31m# fit training data\u001b[0m\u001b[0;34m\u001b[0m\u001b[0;34m\u001b[0m\u001b[0;34m\u001b[0m\u001b[0m\n\u001b[0;32m---> 26\u001b[0;31m     \u001b[0mlogreg\u001b[0m\u001b[0;34m.\u001b[0m\u001b[0mfit\u001b[0m\u001b[0;34m(\u001b[0m\u001b[0mX_train\u001b[0m\u001b[0;34m,\u001b[0m \u001b[0mY_train\u001b[0m\u001b[0;34m)\u001b[0m\u001b[0;34m\u001b[0m\u001b[0;34m\u001b[0m\u001b[0m\n\u001b[0m\u001b[1;32m     27\u001b[0m \u001b[0;34m\u001b[0m\u001b[0m\n\u001b[1;32m     28\u001b[0m     \u001b[0;31m# check accuracy\u001b[0m\u001b[0;34m\u001b[0m\u001b[0;34m\u001b[0m\u001b[0;34m\u001b[0m\u001b[0m\n",
      "\u001b[0;32m~/anaconda3/lib/python3.7/site-packages/sklearn/linear_model/logistic.py\u001b[0m in \u001b[0;36mfit\u001b[0;34m(self, X, y, sample_weight)\u001b[0m\n\u001b[1;32m   1547\u001b[0m                 \u001b[0mself\u001b[0m\u001b[0;34m.\u001b[0m\u001b[0mclass_weight\u001b[0m\u001b[0;34m,\u001b[0m \u001b[0mself\u001b[0m\u001b[0;34m.\u001b[0m\u001b[0mpenalty\u001b[0m\u001b[0;34m,\u001b[0m \u001b[0mself\u001b[0m\u001b[0;34m.\u001b[0m\u001b[0mdual\u001b[0m\u001b[0;34m,\u001b[0m \u001b[0mself\u001b[0m\u001b[0;34m.\u001b[0m\u001b[0mverbose\u001b[0m\u001b[0;34m,\u001b[0m\u001b[0;34m\u001b[0m\u001b[0;34m\u001b[0m\u001b[0m\n\u001b[1;32m   1548\u001b[0m                 \u001b[0mself\u001b[0m\u001b[0;34m.\u001b[0m\u001b[0mmax_iter\u001b[0m\u001b[0;34m,\u001b[0m \u001b[0mself\u001b[0m\u001b[0;34m.\u001b[0m\u001b[0mtol\u001b[0m\u001b[0;34m,\u001b[0m \u001b[0mself\u001b[0m\u001b[0;34m.\u001b[0m\u001b[0mrandom_state\u001b[0m\u001b[0;34m,\u001b[0m\u001b[0;34m\u001b[0m\u001b[0;34m\u001b[0m\u001b[0m\n\u001b[0;32m-> 1549\u001b[0;31m                 sample_weight=sample_weight)\n\u001b[0m\u001b[1;32m   1550\u001b[0m             \u001b[0mself\u001b[0m\u001b[0;34m.\u001b[0m\u001b[0mn_iter_\u001b[0m \u001b[0;34m=\u001b[0m \u001b[0mnp\u001b[0m\u001b[0;34m.\u001b[0m\u001b[0marray\u001b[0m\u001b[0;34m(\u001b[0m\u001b[0;34m[\u001b[0m\u001b[0mn_iter_\u001b[0m\u001b[0;34m]\u001b[0m\u001b[0;34m)\u001b[0m\u001b[0;34m\u001b[0m\u001b[0;34m\u001b[0m\u001b[0m\n\u001b[1;32m   1551\u001b[0m             \u001b[0;32mreturn\u001b[0m \u001b[0mself\u001b[0m\u001b[0;34m\u001b[0m\u001b[0;34m\u001b[0m\u001b[0m\n",
      "\u001b[0;32m~/anaconda3/lib/python3.7/site-packages/sklearn/svm/base.py\u001b[0m in \u001b[0;36m_fit_liblinear\u001b[0;34m(X, y, C, fit_intercept, intercept_scaling, class_weight, penalty, dual, verbose, max_iter, tol, random_state, multi_class, loss, epsilon, sample_weight)\u001b[0m\n\u001b[1;32m    919\u001b[0m         \u001b[0mX\u001b[0m\u001b[0;34m,\u001b[0m \u001b[0my_ind\u001b[0m\u001b[0;34m,\u001b[0m \u001b[0msp\u001b[0m\u001b[0;34m.\u001b[0m\u001b[0misspmatrix\u001b[0m\u001b[0;34m(\u001b[0m\u001b[0mX\u001b[0m\u001b[0;34m)\u001b[0m\u001b[0;34m,\u001b[0m \u001b[0msolver_type\u001b[0m\u001b[0;34m,\u001b[0m \u001b[0mtol\u001b[0m\u001b[0;34m,\u001b[0m \u001b[0mbias\u001b[0m\u001b[0;34m,\u001b[0m \u001b[0mC\u001b[0m\u001b[0;34m,\u001b[0m\u001b[0;34m\u001b[0m\u001b[0;34m\u001b[0m\u001b[0m\n\u001b[1;32m    920\u001b[0m         \u001b[0mclass_weight_\u001b[0m\u001b[0;34m,\u001b[0m \u001b[0mmax_iter\u001b[0m\u001b[0;34m,\u001b[0m \u001b[0mrnd\u001b[0m\u001b[0;34m.\u001b[0m\u001b[0mrandint\u001b[0m\u001b[0;34m(\u001b[0m\u001b[0mnp\u001b[0m\u001b[0;34m.\u001b[0m\u001b[0miinfo\u001b[0m\u001b[0;34m(\u001b[0m\u001b[0;34m'i'\u001b[0m\u001b[0;34m)\u001b[0m\u001b[0;34m.\u001b[0m\u001b[0mmax\u001b[0m\u001b[0;34m)\u001b[0m\u001b[0;34m,\u001b[0m\u001b[0;34m\u001b[0m\u001b[0;34m\u001b[0m\u001b[0m\n\u001b[0;32m--> 921\u001b[0;31m         epsilon, sample_weight)\n\u001b[0m\u001b[1;32m    922\u001b[0m     \u001b[0;31m# Regarding rnd.randint(..) in the above signature:\u001b[0m\u001b[0;34m\u001b[0m\u001b[0;34m\u001b[0m\u001b[0;34m\u001b[0m\u001b[0m\n\u001b[1;32m    923\u001b[0m     \u001b[0;31m# seed for srand in range [0..INT_MAX); due to limitations in Numpy\u001b[0m\u001b[0;34m\u001b[0m\u001b[0;34m\u001b[0m\u001b[0;34m\u001b[0m\u001b[0m\n",
      "\u001b[0;31mKeyboardInterrupt\u001b[0m: "
     ]
    }
   ],
   "source": [
    "###### apply logistic regression\n",
    "from sklearn import linear_model\n",
    "from sklearn.neural_network import MLPClassifier\n",
    "\n",
    "\n",
    "# define regularisation parameter\n",
    "lmbdas=np.logspace(-5,5,11)\n",
    "\n",
    "# preallocate data\n",
    "train_accuracy=np.zeros(lmbdas.shape,np.float64)\n",
    "test_accuracy=np.zeros(lmbdas.shape,np.float64)\n",
    "critical_accuracy=np.zeros(lmbdas.shape,np.float64)\n",
    "\n",
    "train_accuracy_SGD=np.zeros(lmbdas.shape,np.float64)\n",
    "test_accuracy_SGD=np.zeros(lmbdas.shape,np.float64)\n",
    "critical_accuracy_SGD=np.zeros(lmbdas.shape,np.float64)\n",
    "\n",
    "# loop over regularisation strength\n",
    "for i,lmbda in enumerate(lmbdas):\n",
    "\n",
    "    # define logistic regressor\n",
    "    logreg=linear_model.LogisticRegression(penalty='l2',C=1.0/lmbda,random_state=1,verbose=0,max_iter=1E3,tol=1E-5,\n",
    "                                           solver='liblinear')\n",
    "\n",
    "    # fit training data\n",
    "    logreg.fit(X_train, Y_train)\n",
    "\n",
    "    # check accuracy\n",
    "    train_accuracy[i]=logreg.score(X_train,Y_train)\n",
    "    test_accuracy[i]=logreg.score(X_test,Y_test)\n",
    "    critical_accuracy[i]=logreg.score(X_critical,Y_critical)\n",
    "    \n",
    "    print('accuracy: train, test, critical')\n",
    "    print('liblin: %0.4f, %0.4f, %0.4f' %(train_accuracy[i],test_accuracy[i],critical_accuracy[i]) )\n",
    "\n",
    "    # define SGD-based logistic regression\n",
    "    logreg_SGD = linear_model.SGDClassifier(loss='log', penalty='l2', alpha=lmbda, max_iter=100, \n",
    "                                           shuffle=True, random_state=1, learning_rate='optimal')\n",
    "\n",
    "    # fit training data\n",
    "    logreg_SGD.fit(X_train,Y_train)\n",
    "\n",
    "    # check accuracy\n",
    "    train_accuracy_SGD[i]=logreg_SGD.score(X_train,Y_train)\n",
    "    test_accuracy_SGD[i]=logreg_SGD.score(X_test,Y_test)\n",
    "    critical_accuracy_SGD[i]=logreg_SGD.score(X_critical,Y_critical)\n",
    "    \n",
    "    print('SGD: %0.4f, %0.4f, %0.4f' %(train_accuracy_SGD[i],test_accuracy_SGD[i],critical_accuracy_SGD[i]) )\n",
    "\n",
    "    print('finished computing %i/11 iterations' %(i+1))\n",
    "\n",
    "# plot accuracy against regularisation strength\n",
    "plt.semilogx(lmbdas,train_accuracy,'*-b',label='newton-cg train')\n",
    "plt.semilogx(lmbdas,test_accuracy,'*-r',label='newton-cg test')\n",
    "plt.semilogx(lmbdas,critical_accuracy,'*-g',label='newton-cg critical')\n",
    "\n",
    "plt.semilogx(lmbdas,train_accuracy_SGD,'*--b',label='SGD train')\n",
    "plt.semilogx(lmbdas,test_accuracy_SGD,'*--r',label='SGD test')\n",
    "plt.semilogx(lmbdas,critical_accuracy_SGD,'*--g',label='SGD critical')\n",
    "\n",
    "plt.xlabel('$\\\\lambda$')\n",
    "plt.ylabel('$\\\\mathrm{accuracy}$')\n",
    "\n",
    "plt.grid()\n",
    "plt.legend()\n",
    "\n",
    "plt.savefig('plots6/performance_solver_newton-cg.png')\n",
    "plt.show()"
   ]
  },
  {
   "cell_type": "code",
   "execution_count": 24,
   "metadata": {},
   "outputs": [
    {
     "name": "stdout",
     "output_type": "stream",
     "text": [
      "True\n",
      "********************\n",
      "In the training dataset:\n",
      "Number of unordered states: 10000 (0.33)\n",
      "Number of ordered states: 20000 (0.67)\n",
      "********************\n",
      "Training set size: 30000\n",
      "accuracy: train, test\n",
      "liblinear: 0.7173, 0.6278\n"
     ]
    },
    {
     "name": "stderr",
     "output_type": "stream",
     "text": [
      "/Users/alpakpinar/anaconda3/lib/python3.7/site-packages/sklearn/linear_model/stochastic_gradient.py:561: ConvergenceWarning: Maximum number of iteration reached before convergence. Consider increasing max_iter to improve the fit.\n",
      "  ConvergenceWarning)\n"
     ]
    },
    {
     "name": "stdout",
     "output_type": "stream",
     "text": [
      "SGD: 0.6692, 0.6844\n",
      "finished computing 1/11 iterations\n",
      "accuracy: train, test\n",
      "liblinear: 0.7173, 0.6278\n"
     ]
    },
    {
     "name": "stderr",
     "output_type": "stream",
     "text": [
      "/Users/alpakpinar/anaconda3/lib/python3.7/site-packages/sklearn/linear_model/stochastic_gradient.py:561: ConvergenceWarning: Maximum number of iteration reached before convergence. Consider increasing max_iter to improve the fit.\n",
      "  ConvergenceWarning)\n"
     ]
    },
    {
     "name": "stdout",
     "output_type": "stream",
     "text": [
      "SGD: 0.6722, 0.6762\n",
      "finished computing 2/11 iterations\n",
      "accuracy: train, test\n",
      "liblinear: 0.7173, 0.6278\n",
      "SGD: 0.7204, 0.6403\n",
      "finished computing 3/11 iterations\n",
      "accuracy: train, test\n",
      "liblinear: 0.7173, 0.6278\n",
      "SGD: 0.7126, 0.6119\n",
      "finished computing 4/11 iterations\n",
      "accuracy: train, test\n",
      "liblinear: 0.7173, 0.6278\n",
      "SGD: 0.6764, 0.5502\n",
      "finished computing 5/11 iterations\n",
      "accuracy: train, test\n",
      "liblinear: 0.7173, 0.6277\n",
      "SGD: 0.6667, 0.5376\n",
      "finished computing 6/11 iterations\n",
      "accuracy: train, test\n",
      "liblinear: 0.7173, 0.6272\n",
      "SGD: 0.6667, 0.5376\n",
      "finished computing 7/11 iterations\n",
      "accuracy: train, test\n",
      "liblinear: 0.7167, 0.6224\n",
      "SGD: 0.6667, 0.5376\n",
      "finished computing 8/11 iterations\n",
      "accuracy: train, test\n",
      "liblinear: 0.7067, 0.5955\n",
      "SGD: 0.6667, 0.5376\n",
      "finished computing 9/11 iterations\n",
      "accuracy: train, test\n",
      "liblinear: 0.6862, 0.5584\n",
      "SGD: 0.6667, 0.5376\n",
      "finished computing 10/11 iterations\n",
      "accuracy: train, test\n",
      "liblinear: 0.7029, 0.5707\n",
      "SGD: 0.6667, 0.5376\n",
      "finished computing 11/11 iterations\n"
     ]
    },
    {
     "data": {
      "image/png": "[encoded data removed]",
      "text/plain": [
       "<Figure size 432x288 with 1 Axes>"
      ]
     },
     "metadata": {
      "needs_background": "light"
     },
     "output_type": "display_data"
    }
   ],
   "source": [
    "###### apply logistic regression\n",
    "from sklearn import linear_model\n",
    "from sklearn.neural_network import MLPClassifier\n",
    "\n",
    "# define regularisation parameter\n",
    "lmbdas=np.logspace(-5,5,11)\n",
    "\n",
    "def fitAndPlot(lmbdas, X_train, X_test, Y_train, Y_test, crRegionOnly=False, solver='liblinear', penalty='l2'):\n",
    "    '''Train the two classifier models for different values of lambda \n",
    "    and plot the performance curves as a function of lambda.\n",
    "    \n",
    "    If crRegionOnly=False, the performance on critical dataset will also be considered \n",
    "    seperately for performance of each classifier, with two other training/testing sets.\n",
    "    \n",
    "    If crRegionOnly=True, training dataset will be the data generated at the critical temperature region.\n",
    "    \n",
    "    Solver algorithm and penalty (regularization) can be specified.\n",
    "    \n",
    "    Doesn't return anything.\n",
    "    '''\n",
    "    \n",
    "    print('Training set size: %d' % X_train.shape[0])\n",
    "    \n",
    "    # preallocate data\n",
    "    train_accuracy=np.zeros(lmbdas.shape,np.float64)\n",
    "    test_accuracy=np.zeros(lmbdas.shape,np.float64)\n",
    "    critical_accuracy=np.zeros(lmbdas.shape,np.float64)\n",
    "\n",
    "    train_accuracy_SGD=np.zeros(lmbdas.shape,np.float64)\n",
    "    test_accuracy_SGD=np.zeros(lmbdas.shape,np.float64)\n",
    "    critical_accuracy_SGD=np.zeros(lmbdas.shape,np.float64)\n",
    "   \n",
    "    # loop over regularisation strength\n",
    "    for i,lmbda in enumerate(lmbdas):\n",
    "\n",
    "        # define logistic regressor\n",
    "        logreg=linear_model.LogisticRegression(penalty=penalty,C=1.0/lmbda,random_state=1,verbose=0,max_iter=1E3,tol=1E-5,\n",
    "                                               solver=solver)\n",
    "\n",
    "        # fit training data\n",
    "        logreg.fit(X_train, Y_train)\n",
    "\n",
    "        # check accuracy\n",
    "        train_accuracy[i]=logreg.score(X_train,Y_train)\n",
    "        test_accuracy[i]=logreg.score(X_test,Y_test)\n",
    "        if not crRegionOnly:\n",
    "            critical_accuracy[i]=logreg.score(X_critical,Y_critical)\n",
    "            print('accuracy: train, test, critical')\n",
    "            print('%s: %0.4f, %0.4f, %0.4f' %(solver,train_accuracy[i],test_accuracy[i],critical_accuracy[i]))\n",
    "        else:\n",
    "            print('accuracy: train, test')\n",
    "            print('%s: %0.4f, %0.4f' % (solver,train_accuracy[i],test_accuracy[i]))\n",
    "        \n",
    "        # define SGD-based logistic regression\n",
    "        logreg_SGD = linear_model.SGDClassifier(loss='log', penalty=penalty, alpha=lmbda, max_iter=100, \n",
    "                                               shuffle=True, random_state=1, learning_rate='optimal')\n",
    "\n",
    "        # fit training data\n",
    "        logreg_SGD.fit(X_train,Y_train)\n",
    "\n",
    "        # check accuracy\n",
    "        train_accuracy_SGD[i]=logreg_SGD.score(X_train,Y_train)\n",
    "        test_accuracy_SGD[i]=logreg_SGD.score(X_test,Y_test)\n",
    "        if not crRegionOnly:\n",
    "            critical_accuracy_SGD[i]=logreg_SGD.score(X_critical,Y_critical)\n",
    "            print('SGD: %0.4f, %0.4f, %0.4f' %(train_accuracy_SGD[i],test_accuracy_SGD[i],critical_accuracy_SGD[i]) )\n",
    "        else:\n",
    "            print('SGD: %0.4f, %0.4f' %(train_accuracy_SGD[i],test_accuracy_SGD[i]))\n",
    "\n",
    "        print('finished computing %i/11 iterations' %(i+1))\n",
    "\n",
    "    # plot accuracy against regularisation strength\n",
    "    plt.semilogx(lmbdas,train_accuracy,'*-b',label='%s train' % solver)\n",
    "    plt.semilogx(lmbdas,test_accuracy,'*-r',label='%s test' % solver)\n",
    "    if not crRegionOnly:\n",
    "        plt.semilogx(lmbdas,critical_accuracy,'*-g',label='%s critical' % solver)\n",
    "\n",
    "    plt.semilogx(lmbdas,train_accuracy_SGD,'*--b',label='SGD train')\n",
    "    plt.semilogx(lmbdas,test_accuracy_SGD,'*--r',label='SGD test')\n",
    "    if not crRegionOnly:\n",
    "        plt.semilogx(lmbdas,critical_accuracy_SGD,'*--g',label='SGD critical')\n",
    "\n",
    "    plt.xlabel('$\\\\lambda$')\n",
    "    plt.ylabel('$\\\\mathrm{accuracy}$')\n",
    "\n",
    "    plt.grid()\n",
    "    plt.legend()\n",
    "\n",
    "    plt.savefig('plots6/performance_solver_{SOLVER}_iscr={ISCR}.png'.format(SOLVER=solver, ISCR=crRegionOnly))\n",
    "    plt.show()\n",
    "    \n",
    "#################\n",
    "# Do the training & get the results\n",
    "#################\n",
    "\n",
    "numTrainStates = X_train.shape[0]\n",
    "\n",
    "crRegionOnly = (numTrainStates == 30000)\n",
    "numUnorderedStates = np.unique(Y_train, return_counts=True)[1][0]\n",
    "numOrderedStates = np.unique(Y_train, return_counts=True)[1][1]\n",
    "ratioUnorderedStates = float(numUnorderedStates)/numTrainStates\n",
    "ratioOrderedStates = float(numOrderedStates)/numTrainStates\n",
    "\n",
    "print('*'*20)\n",
    "print('In the training dataset:')\n",
    "print('Number of unordered states: %d (%.2f)' % (numUnorderedStates, ratioUnorderedStates))\n",
    "print('Number of ordered states: %d (%.2f)' % (numOrderedStates, ratioOrderedStates))\n",
    "print('*'*20)\n",
    "\n",
    "\n",
    "fitAndPlot(lmbdas, X_train, X_test, Y_train, Y_test, crRegionOnly=crRegionOnly)\n"
   ]
  },
  {
   "cell_type": "markdown",
   "metadata": {
    "collapsed": true
   },
   "source": [
    "## Interpreting the results\n",
    "\n",
    "The first thing we can read off the figure above is the relative degree of overfitting. This information is contained in the difference in accuracy of our model on the training (blue) and test (red) datasets. Notice that the accuracy difference between test and training sets is significant but not unreasonable, within $10\\%$. Interestingly, which optimizer performs better depends on the value of the regularization strength. Moreover, similar to the Linear Regression examples, we find that there exists a sweet spot for the regularization strength $\\lambda$ that results in optimal performance of the logistic regressor, at about $\\lambda\\sim 10^{-1}$.\n",
    "\n",
    "Due to the physics of the Ising model close to criticality, we expect that predicting the phase of a sample will become much more difficult close to the critical point. We can visually see this by looking at the states in the critical region, (see Fig. above and plot other examples). Notice that it is no longer easy even for a trained human eye to distinguish between the ferromagnetic and the disordered phases close to $T_c$. \n",
    "\n",
    "It is an interesting exercise to compare the training and test accuracies in the ordered and disordered phases to the accuracy of the model near the critical point (i.e. critical states). Recall that the model is not trained on critical states. Notice that the accuracy is about $10\\%$ smaller for the critical states (green curves). \n"
   ]
  },
  {
   "cell_type": "markdown",
   "metadata": {},
   "source": [
    "### Exercises: ###  \n",
    "<ul>\n",
    "<li> Change the regularization to $L^1$, or $L^1+L^2$ (i.e. elastic net, see Notebook 2 for more details), and study the performance of the model.\n",
    "\n",
    "<li> Try out different solvers supported by `LogisticRegression()`, [see online scikit documentation](http://scikit-learn.org/stable/modules/generated/sklearn.linear_model.LogisticRegression.html). How do they compare to `liblinear` and `SGD`?\n",
    "\n",
    "<li> One can expect the regressor to be maximally confused exactly at the critical point. Take the data states for the closest temperature, i.e. $T/J=2.5$, and check the performance of the model. Do we get an accuracy of about $50\\%$? Does this depend on the proportion of ordered to disordered states in the training set?\n",
    "\n",
    "<li> Take the regressor trained on the square lattice Ising model, and try to predict the phases on a different lattice geometry (e.g. triangular or honeycomb). What accuracy do you obtain? Can you roughly locate the critical point in this new model? Note that this requires you to generate your own dataset using Monte-Carlo sampling.\n",
    "</ul>"
   ]
  },
  {
   "cell_type": "markdown",
   "metadata": {},
   "source": [
    "## Answers to Exercises\n",
    "\n",
    "- Running both SGDClassifier and LogisticRegression training models with $L^2$ regularization, we get the following performances as a function of the regularization parameter, $\\lambda$:\n",
    "\n",
    "<img src=\"plots6/performance_L2reg.png\"/>\n",
    "\n",
    "Looking at the performance curves for each model, we observe that in general, liblinear routine (LogisticRegression) has a better performance for all three data categories. Only at intermediate values of $\\lambda$, the performance of SGDClassifier and LogisticRegression are comparable. In a specific region where $10^{-2} < \\lambda < 1$, we also observe that SGDClassifier has a higher performance compared to liblinear routine while classifying the samples in critical region. But as $\\lambda$ grows a little bit, this performance drops in a very fast manner.\n",
    "\n",
    "Changing the penalty from $L^2$ to $L^1$, we get the following performances as a function of $\\lambda$: \n",
    "\n",
    "<img src=\"plots6/performance_L1reg.png\"/>\n",
    "\n",
    "Here, we observe a very significant difference in the performance of LogisticRegression model: We observe that compared to the $L^2$ penalization, the performance of LogisticRegression classifier is much worse in all categories. This is indeed an expected behavior since $L^1$ penalization introduces more sparsity and hence the performance goes down more rapidly as the penalizing term, $\\lambda$ increases. For SGD training, we also observe that the performance is much worse in intermediate values of $\\lambda$, compared to the case where we used $L^2$ regularization. For any value of $\\lambda$, this model does not have an accuracy greater than $55 \\%$ on training and testing datasets. SGD classifier still has a slightly higher performance for classiyfing critical states for intermediate $\\lambda$, though.\n",
    "\n",
    "If we run the two models with elastic net penalty instead (using an l1_ratio of 0.15 for both), we get the following performances: (NOTE: for elasticnet training, saga solver is used in LogisticRegression model)\n",
    "\n",
    "<img src=\"plots6/performance_elasticnet.png\"/>\n",
    "\n",
    "From this figure, one can again observe the sharp reduction in performance for larger values of $\\lambda$. However, this reduction is not as sharp as the reduction where pure $L^1$ regularization is used. Here, again the performance of SGD classifier is overall worse, compared with the case with only $L^2$ regularization.\n",
    "\n",
    "In summary, changing the regularization didn't affect the performances of both classifiers at the very low end of $\\lambda$ spectrum. For the larger end of the spectrum, it greatly reduced the performance of LogisticRegression model. This is expected for the Ising problem because with the introduction of $L^1$ regularization, more sparsity and more suppression of specific weights are introduced. However, in the Ising problem, nearly all weights are of equal importance, therefore suppresion of a subset of the weights at higher $\\lambda$ leads to poor performance. Introduction of $L^1$ regularization also reduced the performance of SGD classifier for intermediate values of $\\lambda$, for the classification of training and testing datasets. \n",
    "\n"
   ]
  },
  {
   "cell_type": "markdown",
   "metadata": {},
   "source": [
    "- Running LogisticRegression classifier with saga classifier instead of liblinear, with both LogisticRegression and SGD classifiers having $L^2$ regularization, we get the following performances as a function of $\\lambda$ (plotted on the left side):\n",
    "\n",
    "<img src=\"plots6/performance_solver_saga.png\" style=\"float: left;\"/> \n",
    "<img src=\"plots6/performance_L2reg.png\" style=\"float: right;\"/>  \n",
    "<br clear='all'>\n",
    "\n",
    "Comparing this with the performance obtained using liblinear routine (plotted on the right side), we see that the performance of LogisticRegression classifier is very similar for low to intermediate $\\lambda$. For large values of $\\lambda$ however, we observe that the performance is worse in saga routine compared to liblinear. With saga, at the high end of $\\lambda$ spectrum, training and testing accuracies drop to $\\sim 55 \\%$, whereas with liblinear routine, these accuracies almost reach $70 \\%$. Other than this reduction in performance at high $\\lambda$, the two solvers seem to produce very similar results.\n",
    "\n",
    "Using Newton-Raphson Method as the solver, we get the following performance as a function of $\\lambda$ (plotted on the left side):\n",
    "\n",
    "<img src=\"plots6/performance_solver_newton-cg.png\" style=\"float: left;\"/>\n",
    "<img src=\"plots6/performance_L2reg.png\" style=\"float: right;\"/>  \n",
    "<br clear='all'>\n",
    "\n",
    "Using Newton-Raphson Method as the solver, we see almost identical results to the case where we used SAGA. Compared to the liblinear solver, the performance reduction of the LogisticRegression classifier for higher $\\lambda$ is more apparant."
   ]
  },
  {
   "cell_type": "markdown",
   "metadata": {},
   "source": [
    "- Choosing only the data generated at the critical region, $2.0 < T/J < 2.5$, for the training dataset and testing the classifier with a mix of 65000 ordered and unordered states, we get the following performance result:\n",
    "\n",
    "<img src=\"plots6/performance_solver_liblinear_iscr=True.png\"/>\n",
    "\n",
    "Looking at this plot, we observe that the difference between the training and testing accuracies for both classifiers are at worst less than $10 \\%$. Also, with liblinear routine, we are able to reach more than $70 \\%$ accuracy in testing with $\\lambda \\sim 10^{-3}$. Therefore, for this specific training dataset, the performance of both classifiers can't be said to be worse compared to the previous cases.\n",
    "\n"
   ]
  },
  {
   "cell_type": "code",
   "execution_count": null,
   "metadata": {},
   "outputs": [],
   "source": []
  }
 ],
 "metadata": {
  "anaconda-cloud": {},
  "kernelspec": {
   "display_name": "Python 3",
   "language": "python",
   "name": "python3"
  },
  "language_info": {
   "codemirror_mode": {
    "name": "ipython",
    "version": 3
   },
   "file_extension": ".py",
   "mimetype": "text/x-python",
   "name": "python",
   "nbconvert_exporter": "python",
   "pygments_lexer": "ipython3",
   "version": "3.7.3"
  }
 },
 "nbformat": 4,
 "nbformat_minor": 1
}
