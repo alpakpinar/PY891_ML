{
 "cells": [
  {
   "cell_type": "markdown",
   "metadata": {},
   "source": [
    "# Notebook 11: Introduction to Deep Neural Networks with Keras"
   ]
  },
  {
   "cell_type": "markdown",
   "metadata": {},
   "source": [
    "## Learning Goals\n",
    "The goal of this notebook is to introduce deep neural networks (DNNs) using the high-level Keras package. The reader will become familiar with how to choose an architecture, cost function, and optimizer in Keras. We will also learn how to train neural networks.\n",
    "\n",
    "\n",
    "# MNIST with Keras\n",
    "\n",
    "We will once again work with the MNIST dataset of hand written digits introduced in *Notebook 7: Logistic Regression (MNIST)*. The goal is to find a statistical model which recognizes and distinguishes between the ten handwritten digits (0-9).\n",
    "\n",
    "The MNIST dataset comprises $70000$ handwritten digits, each of which comes in a square image, divided into a $28\\times 28$ pixel grid. Every pixel can take on $256$ nuances of the gray color, interpolating between white and black, and hence each data point assumes any value in the set $\\{0,1,\\dots,255\\}$. Since there are $10$ categories in the problem, corresponding to the ten digits, this problem represents a generic classification task. \n",
    "\n",
    "In this Notebook, we show how to use the Keras python package to tackle the MNIST problem with the help of deep neural networks.\n",
    "\n",
    "The following code is a slight modification of a Keras tutorial, see [https://github.com/fchollet/keras/blob/master/examples/mnist_cnn.py](https://github.com/fchollet/keras/blob/master/examples/mnist_cnn.py). We invite the reader to read Sec. IX of the review to acquire a broad understanding of what the separate parts of the code do."
   ]
  },
  {
   "cell_type": "code",
   "execution_count": 1,
   "metadata": {},
   "outputs": [
    {
     "name": "stderr",
     "output_type": "stream",
     "text": [
      "Using TensorFlow backend.\n"
     ]
    }
   ],
   "source": [
    "from __future__ import print_function\n",
    "import keras,sklearn\n",
    "# suppress tensorflow compilation warnings\n",
    "import os\n",
    "os.environ['KMP_DUPLICATE_LIB_OK']='True'\n",
    "import tensorflow as tf\n",
    "os.environ['TF_CPP_MIN_LOG_LEVEL'] = '2'\n",
    "import numpy as np\n",
    "seed=0\n",
    "np.random.seed(seed) # fix random seed\n",
    "tf.set_random_seed(seed)\n",
    "import matplotlib.pyplot as plt"
   ]
  },
  {
   "cell_type": "markdown",
   "metadata": {},
   "source": [
    "## Structure of the Procedure\n",
    "\n",
    "Constructing a Deep Neural Network to solve ML problems is a multiple-stage process. Quite generally, one can identify the key steps as follows:\n",
    "\n",
    "* ***step 1:*** Load and process the data\n",
    "* ***step 2:*** Define the model and its architecture\n",
    "* ***step 3:*** Choose the optimizer and the cost function\n",
    "* ***step 4:*** Train the model \n",
    "* ***step 5:*** Evaluate the model performance on the *unseen* test data\n",
    "* ***step 6:*** Modify the hyperparameters to optimize performance for the specific data set\n",
    "\n",
    "We would like to emphasize that, while it is always possible to view steps 1-5 as independent of the particular task we are trying to solve, it is only when they are put together in ***step 6*** that the real gain of using Deep Learning is revealed, compared to less sophisticated methods such as the regression models or bagging, described in Secs. VII and VIII of the review. With this remark in mind, we shall focus predominantly on steps 1-5 below. We show how one can use grid search methods to find optimal hyperparameters in ***step 6***."
   ]
  },
  {
   "cell_type": "markdown",
   "metadata": {},
   "source": [
    "### Step 1: Load and Process the Data\n",
    "\n",
    "Keras can conveniently download the MNIST data from the web. All we need to do is import the `mnist` module and use the `load_data()` class, and it will create the training and test data sets or us.\n",
    "\n",
    "The MNIST set has pre-defined test and training sets, in order to facilitate the comparison of the performance of different models on the data.\n",
    "\n",
    "Once we have loaded the data, we need to format it in the correct shape. This differs from one package to the other and, as we see in the case of Keras, it can even be different depending on the backend used.\n",
    "\n",
    "While choosing the correct `datatype` can help improve the computational speed, we emphasize the rescaling step, which is necessary to avoid large variations in the minimal and maximal possible values of each feature. In other words, we want to make sure a feature is not being over-represented just because it is \"large\".\n",
    "\n",
    "Last, we cast the label vectors $y$ to binary class matrices (a.k.a. one-hot format), as explained in Sec. VII on SoftMax regression."
   ]
  },
  {
   "cell_type": "code",
   "execution_count": 6,
   "metadata": {},
   "outputs": [
    {
     "name": "stdout",
     "output_type": "stream",
     "text": [
      "an example of a data point with label 4\n"
     ]
    },
    {
     "data": {
      "image/png": "[encoded data removed]",
      "text/plain": [
       "<Figure size 288x288 with 1 Axes>"
      ]
     },
     "metadata": {
      "needs_background": "light"
     },
     "output_type": "display_data"
    },
    {
     "name": "stdout",
     "output_type": "stream",
     "text": [
      "X_train shape: (60000, 784)\n",
      "Y_train shape: (60000, 10)\n",
      "\n",
      "60000 train samples\n",
      "10000 test samples\n"
     ]
    }
   ],
   "source": [
    "from keras.datasets import mnist, fashion_mnist\n",
    "\n",
    "# input image dimensions\n",
    "num_classes = 10 # 10 digits\n",
    "\n",
    "img_rows, img_cols = 28, 28 # number of pixels \n",
    "\n",
    "# the data, shuffled and split between train and test sets\n",
    "(X_train, Y_train), (X_test, Y_test) = mnist.load_data()\n",
    "\n",
    "(X_train_2, Y_train_2), (X_test_2, Y_test_2) = fashion_mnist.load_data()\n",
    "\n",
    "# reshape data, depending on Keras backend\n",
    "X_train = X_train.reshape(X_train.shape[0], img_rows*img_cols)\n",
    "X_test = X_test.reshape(X_test.shape[0], img_rows*img_cols)\n",
    "    \n",
    "# cast floats to single precesion\n",
    "X_train = X_train.astype('float32')\n",
    "X_test = X_test.astype('float32')\n",
    "\n",
    "# rescale data in interval [0,1]\n",
    "X_train /= 255\n",
    "X_test /= 255\n",
    "\n",
    "# look at an example of data point\n",
    "print('an example of a data point with label', Y_train[20])\n",
    "plt.matshow(X_train[20,:].reshape(28,28),cmap='binary')\n",
    "plt.show()\n",
    "\n",
    "# convert class vectors to binary class matrices\n",
    "Y_train = keras.utils.to_categorical(Y_train, num_classes)\n",
    "Y_test = keras.utils.to_categorical(Y_test, num_classes)\n",
    "\n",
    "print('X_train shape:', X_train.shape)\n",
    "print('Y_train shape:', Y_train.shape)\n",
    "print()\n",
    "print(X_train.shape[0], 'train samples')\n",
    "print(X_test.shape[0], 'test samples')"
   ]
  },
  {
   "cell_type": "code",
   "execution_count": 7,
   "metadata": {},
   "outputs": [
    {
     "name": "stdout",
     "output_type": "stream",
     "text": [
      "an example of a data point with label 3\n"
     ]
    },
    {
     "data": {
      "image/png": "[encoded data removed]",
      "text/plain": [
       "<Figure size 288x288 with 1 Axes>"
      ]
     },
     "metadata": {
      "needs_background": "light"
     },
     "output_type": "display_data"
    },
    {
     "name": "stdout",
     "output_type": "stream",
     "text": [
      "X_train shape: (60000, 784)\n",
      "Y_train shape: (60000, 10)\n",
      "\n",
      "60000 train samples\n",
      "10000 test samples\n"
     ]
    }
   ],
   "source": [
    "# Download fashion MNIST data\n",
    "\n",
    "from keras.datasets import fashion_mnist\n",
    "\n",
    "num_classes = 10\n",
    "\n",
    "img_rows = 28\n",
    "img_cols = 28\n",
    "\n",
    "(X_train, Y_train), (X_test, Y_test) = fashion_mnist.load_data()\n",
    "# reshape data, depending on Keras backend\n",
    "X_train = X_train.reshape(X_train.shape[0], img_rows*img_cols)\n",
    "X_test = X_test.reshape(X_test.shape[0], img_rows*img_cols)\n",
    "# cast floats to single precesion\n",
    "X_train = X_train.astype('float32')\n",
    "X_test = X_test.astype('float32')\n",
    "\n",
    "# rescale data in interval [0,1]\n",
    "X_train /= 255\n",
    "X_test /= 255\n",
    "\n",
    "# look at an example of data point\n",
    "print('an example of a data point with label', Y_train[20])\n",
    "plt.matshow(X_train[20,:].reshape(28,28),cmap='binary')\n",
    "plt.show()\n",
    "\n",
    "# convert class vectors to binary class matrices\n",
    "Y_train = keras.utils.to_categorical(Y_train, num_classes)\n",
    "Y_test = keras.utils.to_categorical(Y_test, num_classes)\n",
    "\n",
    "print('X_train shape:', X_train.shape)\n",
    "print('Y_train shape:', Y_train.shape)\n",
    "print()\n",
    "print(X_train.shape[0], 'train samples')\n",
    "print(X_test.shape[0], 'test samples')"
   ]
  },
  {
   "cell_type": "markdown",
   "metadata": {},
   "source": [
    "### Step 2: Define the Neural Net and its Architecture\n",
    "\n",
    "We can now move on to construct our deep neural net. We shall use Keras's `Sequential()` class to instantiate a model, and will add different deep layers one by one.\n",
    "\n",
    "At this stage, we refrain from using convolutional layers. This is done further below.\n",
    "\n",
    "Let us create an instance of Keras' `Sequential()` class, called `model`. As the name suggests, this class allows us to build DNNs layer by layer. We use the `add()` method to attach layers to our model. For the purposes of our introductory example, it suffices to focus on `Dense` layers for simplicity. Every `Dense()` layer accepts as its first required argument an integer which specifies the number of neurons. The type of activation function for the layer is defined using the `activation` optional argument, the input of which is the name of the activation function in `string` format. Examples include `relu`, `tanh`, `elu`, `sigmoid`, `softmax`. \n",
    "\n",
    "In order for our DNN to work properly, we have to make sure that the numbers of input and output neurons for each layer match. Therefore, we specify the shape of the input in the first layer of the model explicitly using the optional argument `input_shape=(N_features,)`. The sequential construction of the model then allows Keras to infer the correct input/output dimensions of all hidden layers automatically. Hence, we only need to specify the size of the softmax output layer to match the number of categories."
   ]
  },
  {
   "cell_type": "code",
   "execution_count": 78,
   "metadata": {},
   "outputs": [
    {
     "name": "stdout",
     "output_type": "stream",
     "text": [
      "Model architecture created successfully!\n"
     ]
    }
   ],
   "source": [
    "from keras.models import Sequential\n",
    "from keras.layers import Dense, Dropout, Flatten, BatchNormalization\n",
    "from keras.layers import Conv2D, MaxPooling2D\n",
    "\n",
    "\n",
    "def create_DNN():\n",
    "    # instantiate model\n",
    "    model = Sequential()\n",
    "    # add a dense all-to-all relu layer\n",
    "    model.add(Dense(300,input_shape=(img_rows*img_cols,), activation='tanh'))\n",
    "    # add a batch-norm layer\n",
    "    model.add(BatchNormalization())\n",
    "    # add a dense all-to-all relu layer\n",
    "    model.add(Dense(100, activation='tanh'))\n",
    "    # apply dropout with rate 0.5\n",
    "    model.add(Dropout(0.5))\n",
    "    # soft-max layer\n",
    "    model.add(Dense(num_classes, activation='softmax'))\n",
    "    \n",
    "    return model\n",
    "\n",
    "print('Model architecture created successfully!')"
   ]
  },
  {
   "cell_type": "markdown",
   "metadata": {},
   "source": [
    "### Step 3: Choose the Optimizer and the Cost Function\n",
    "\n",
    "Next, we choose the loss function according to which to train the DNN. For classification problems, this is the cross entropy, and since the output data was cast in categorical form, we choose the `categorical_crossentropy` defined in Keras' `losses` module. Depending on the problem of interest one can pick any other suitable loss function. To optimize the weights of the net, we choose SGD. This algorithm is already available to use under Keras' `optimizers` module, but we could use `Adam()` or any other built-in one as well. The parameters for the optimizer, such as `lr` (learning rate) or `momentum` are passed using the corresponding optional arguments of the `SGD()` function. All available arguments can be found in Keras' online documentation at [https://keras.io/](https://keras.io/). While the loss function and the optimizer are essential for the training procedure, to test the performance of the model one may want to look at a particular `metric` of performance. For instance, in categorical tasks one typically looks at their `accuracy`, which is defined as the percentage of correctly classified data points. To complete the definition of our model, we use the `compile()` method, with optional arguments for the `optimizer`, `loss`, and the validation `metric` as follows:"
   ]
  },
  {
   "cell_type": "code",
   "execution_count": 79,
   "metadata": {},
   "outputs": [
    {
     "name": "stdout",
     "output_type": "stream",
     "text": [
      "Model compiled successfully and ready to be trained.\n"
     ]
    }
   ],
   "source": [
    "def compile_model(optimizer=keras.optimizers.Adam()):\n",
    "    # create the mode\n",
    "    model=create_DNN()\n",
    "    # compile the model\n",
    "    model.compile(loss=keras.losses.categorical_crossentropy,\n",
    "                  optimizer=optimizer,\n",
    "                  metrics=['accuracy'])\n",
    "    return model\n",
    "\n",
    "print('Model compiled successfully and ready to be trained.')"
   ]
  },
  {
   "cell_type": "markdown",
   "metadata": {},
   "source": [
    "### Step 4: Train the model\n",
    "\n",
    "We train our DNN in minibatches, the advantages of which were explained in Sec. IV. \n",
    "\n",
    "Shuffling the training data during training improves stability of the model. Thus, we train over a number of training epochs. \n",
    "\n",
    "Training the DNN is a one-liner using the `fit()` method of the `Sequential` class. The first two required arguments are the training input and output data. As optional arguments, we specify the mini-`batch_size`, the number of training `epochs`, and the test or `validation_data`. To monitor the training procedure for every epoch, we set `verbose=True`. "
   ]
  },
  {
   "cell_type": "code",
   "execution_count": 80,
   "metadata": {},
   "outputs": [
    {
     "name": "stdout",
     "output_type": "stream",
     "text": [
      "Train on 60000 samples, validate on 10000 samples\n",
      "Epoch 1/10\n",
      "60000/60000 [==============================] - 7s 119us/step - loss: 0.5511 - accuracy: 0.8087 - val_loss: 0.4405 - val_accuracy: 0.8344\n",
      "Epoch 2/10\n",
      "60000/60000 [==============================] - 5s 78us/step - loss: 0.4167 - accuracy: 0.8524 - val_loss: 0.3797 - val_accuracy: 0.8617\n",
      "Epoch 3/10\n",
      "60000/60000 [==============================] - 5s 78us/step - loss: 0.3744 - accuracy: 0.8672 - val_loss: 0.3871 - val_accuracy: 0.8602\n",
      "Epoch 4/10\n",
      "60000/60000 [==============================] - 5s 78us/step - loss: 0.3498 - accuracy: 0.8752 - val_loss: 0.4281 - val_accuracy: 0.8368\n",
      "Epoch 5/10\n",
      "60000/60000 [==============================] - 5s 78us/step - loss: 0.3333 - accuracy: 0.8811 - val_loss: 0.3809 - val_accuracy: 0.8577\n",
      "Epoch 6/10\n",
      "60000/60000 [==============================] - 5s 78us/step - loss: 0.3129 - accuracy: 0.8877 - val_loss: 0.3631 - val_accuracy: 0.8683\n",
      "Epoch 7/10\n",
      "60000/60000 [==============================] - 5s 78us/step - loss: 0.2990 - accuracy: 0.8928 - val_loss: 0.3876 - val_accuracy: 0.8617\n",
      "Epoch 8/10\n",
      "60000/60000 [==============================] - 5s 78us/step - loss: 0.2935 - accuracy: 0.8958 - val_loss: 0.3619 - val_accuracy: 0.8701\n",
      "Epoch 9/10\n",
      "60000/60000 [==============================] - 5s 78us/step - loss: 0.2805 - accuracy: 0.9007 - val_loss: 0.3395 - val_accuracy: 0.8767\n",
      "Epoch 10/10\n",
      "60000/60000 [==============================] - 5s 78us/step - loss: 0.2752 - accuracy: 0.9015 - val_loss: 0.3357 - val_accuracy: 0.8799\n"
     ]
    }
   ],
   "source": [
    "# training parameters\n",
    "batch_size = 64\n",
    "epochs = 10\n",
    "\n",
    "# create the deep neural net\n",
    "model_DNN=compile_model()\n",
    "\n",
    "# train DNN and store training info in history\n",
    "history=model_DNN.fit(X_train, Y_train,\n",
    "          batch_size=batch_size,\n",
    "          epochs=epochs,\n",
    "          verbose=1,\n",
    "          validation_data=(X_test, Y_test))"
   ]
  },
  {
   "cell_type": "markdown",
   "metadata": {},
   "source": [
    "### Step 5: Evaluate the Model Performance on the *Unseen* Test Data\n",
    "\n",
    "Next, we evaluate the model and read of the loss on the test data, and its accuracy using the `evaluate()` method."
   ]
  },
  {
   "cell_type": "code",
   "execution_count": 81,
   "metadata": {},
   "outputs": [
    {
     "name": "stdout",
     "output_type": "stream",
     "text": [
      "10000/10000 [==============================] - 1s 98us/step\n",
      "\n",
      "Test loss: 0.33573035575151444\n",
      "Test accuracy: 0.8798999786376953\n"
     ]
    },
    {
     "data": {
      "image/png": "[encoded data removed]",
      "text/plain": [
       "<Figure size 432x288 with 1 Axes>"
      ]
     },
     "metadata": {
      "needs_background": "light"
     },
     "output_type": "display_data"
    },
    {
     "data": {
      "image/png": "[encoded data removed]",
      "text/plain": [
       "<Figure size 432x288 with 1 Axes>"
      ]
     },
     "metadata": {
      "needs_background": "light"
     },
     "output_type": "display_data"
    }
   ],
   "source": [
    "# evaluate model\n",
    "score = model_DNN.evaluate(X_test, Y_test, verbose=1)\n",
    "\n",
    "# print performance\n",
    "print()\n",
    "print('Test loss:', score[0])\n",
    "print('Test accuracy:', score[1])\n",
    "\n",
    "# look into training history\n",
    "\n",
    "# summarize history for accuracy\n",
    "plt.plot(history.history['accuracy'])\n",
    "plt.plot(history.history['val_accuracy'])\n",
    "plt.ylabel('model accuracy')\n",
    "plt.xlabel('epoch')\n",
    "plt.legend(['train', 'test'], loc='best')\n",
    "plt.show()\n",
    "\n",
    "# summarize history for loss\n",
    "plt.plot(history.history['loss'])\n",
    "plt.plot(history.history['val_loss'])\n",
    "plt.ylabel('model loss')\n",
    "plt.xlabel('epoch')\n",
    "plt.legend(['train', 'test'], loc='best')\n",
    "plt.show()"
   ]
  },
  {
   "cell_type": "markdown",
   "metadata": {
    "collapsed": true
   },
   "source": [
    "### Step 6: Modify the Hyperparameters to Optimize Performance of the Model\n",
    "\n",
    "Last, we show how to use the grid search option of scikit-learn to optimize the \n",
    "hyperparameters of our model. An excellent blog on this by Jason Brownlee can be found on [https://machinelearningmastery.com/grid-search-hyperparameters-deep-learning-models-python-keras/](https://machinelearningmastery.com/grid-search-hyperparameters-deep-learning-models-python-keras/)."
   ]
  },
  {
   "cell_type": "code",
   "execution_count": 26,
   "metadata": {},
   "outputs": [
    {
     "name": "stdout",
     "output_type": "stream",
     "text": [
      "Epoch 1/1\n",
      "45000/45000 [==============================] - 2s 38us/step - loss: 0.7461 - accuracy: 0.7487\n",
      "15000/15000 [==============================] - 0s 22us/step\n",
      "Epoch 1/1\n",
      "45000/45000 [==============================] - 2s 40us/step - loss: 0.7446 - accuracy: 0.7488\n",
      "15000/15000 [==============================] - 0s 23us/step\n",
      "Epoch 1/1\n",
      "45000/45000 [==============================] - 2s 40us/step - loss: 0.7320 - accuracy: 0.7517\n",
      "15000/15000 [==============================] - 0s 24us/step\n",
      "Epoch 1/1\n",
      "45000/45000 [==============================] - 2s 40us/step - loss: 0.7293 - accuracy: 0.7543\n",
      "15000/15000 [==============================] - 0s 26us/step\n",
      "Epoch 1/1\n",
      "45000/45000 [==============================] - 2s 47us/step - loss: 0.5492 - accuracy: 0.8114\n",
      "15000/15000 [==============================] - 0s 28us/step\n",
      "Epoch 1/1\n",
      "45000/45000 [==============================] - 2s 50us/step - loss: 0.5470 - accuracy: 0.8110\n",
      "15000/15000 [==============================] - 0s 29us/step\n",
      "Epoch 1/1\n",
      "45000/45000 [==============================] - 2s 51us/step - loss: 0.5562 - accuracy: 0.8081\n",
      "15000/15000 [==============================] - 0s 31us/step\n",
      "Epoch 1/1\n",
      "45000/45000 [==============================] - 2s 52us/step - loss: 0.5545 - accuracy: 0.8106\n",
      "15000/15000 [==============================] - 0s 33us/step\n",
      "Epoch 1/1\n",
      "45000/45000 [==============================] - 2s 48us/step - loss: 0.5216 - accuracy: 0.8184\n",
      "15000/15000 [==============================] - 1s 34us/step\n",
      "Epoch 1/1\n",
      "45000/45000 [==============================] - 2s 49us/step - loss: 0.5336 - accuracy: 0.8132\n",
      "15000/15000 [==============================] - 1s 36us/step\n",
      "Epoch 1/1\n",
      "45000/45000 [==============================] - 2s 50us/step - loss: 0.5303 - accuracy: 0.8153\n",
      "15000/15000 [==============================] - 1s 37us/step\n",
      "Epoch 1/1\n",
      "45000/45000 [==============================] - 2s 50us/step - loss: 0.5245 - accuracy: 0.8184\n",
      "15000/15000 [==============================] - 1s 38us/step\n",
      "Epoch 1/1\n",
      "45000/45000 [==============================] - 3s 58us/step - loss: 0.5635 - accuracy: 0.8065\n",
      "15000/15000 [==============================] - 1s 40us/step\n",
      "Epoch 1/1\n",
      "45000/45000 [==============================] - 3s 59us/step - loss: 0.5554 - accuracy: 0.8068\n",
      "15000/15000 [==============================] - 1s 43us/step\n",
      "Epoch 1/1\n",
      "45000/45000 [==============================] - 3s 60us/step - loss: 0.5640 - accuracy: 0.8050\n",
      "15000/15000 [==============================] - 1s 46us/step\n",
      "Epoch 1/1\n",
      "45000/45000 [==============================] - 3s 62us/step - loss: 0.5688 - accuracy: 0.8039\n",
      "15000/15000 [==============================] - 1s 47us/step\n",
      "Epoch 1/1\n",
      "45000/45000 [==============================] - 3s 60us/step - loss: 0.5560 - accuracy: 0.8095\n",
      "15000/15000 [==============================] - 1s 49us/step\n",
      "Epoch 1/1\n",
      "45000/45000 [==============================] - 3s 63us/step - loss: 0.5467 - accuracy: 0.8096\n",
      "15000/15000 [==============================] - 1s 49us/step\n",
      "Epoch 1/1\n",
      "45000/45000 [==============================] - 3s 63us/step - loss: 0.5581 - accuracy: 0.8084\n",
      "15000/15000 [==============================] - 1s 53us/step\n",
      "Epoch 1/1\n",
      "45000/45000 [==============================] - 3s 65us/step - loss: 0.5562 - accuracy: 0.8072\n",
      "15000/15000 [==============================] - 1s 56us/step\n",
      "Epoch 1/1\n",
      "45000/45000 [==============================] - 3s 63us/step - loss: 0.5586 - accuracy: 0.8041\n",
      "15000/15000 [==============================] - 1s 57us/step\n",
      "Epoch 1/1\n",
      "45000/45000 [==============================] - 3s 65us/step - loss: 0.5585 - accuracy: 0.8090\n",
      "15000/15000 [==============================] - 1s 61us/step\n",
      "Epoch 1/1\n",
      "45000/45000 [==============================] - 3s 66us/step - loss: 0.5634 - accuracy: 0.8065\n",
      "15000/15000 [==============================] - 1s 63us/step\n",
      "Epoch 1/1\n",
      "45000/45000 [==============================] - 3s 67us/step - loss: 0.5587 - accuracy: 0.8094\n",
      "15000/15000 [==============================] - 1s 63us/step\n",
      "Epoch 1/1\n",
      "45000/45000 [==============================] - 3s 75us/step - loss: 0.5254 - accuracy: 0.8162\n",
      "15000/15000 [==============================] - 1s 65us/step\n",
      "Epoch 1/1\n",
      "45000/45000 [==============================] - 3s 75us/step - loss: 0.5317 - accuracy: 0.8151\n",
      "15000/15000 [==============================] - 1s 67us/step\n",
      "Epoch 1/1\n",
      "45000/45000 [==============================] - 3s 76us/step - loss: 0.5392 - accuracy: 0.8129\n",
      "15000/15000 [==============================] - 1s 71us/step\n",
      "Epoch 1/1\n",
      "45000/45000 [==============================] - 3s 77us/step - loss: 0.5294 - accuracy: 0.8152\n",
      "15000/15000 [==============================] - 1s 72us/step\n",
      "Epoch 1/1\n",
      "60000/60000 [==============================] - 4s 71us/step - loss: 0.5332 - accuracy: 0.8169\n",
      "Best: 0.842050 using {'optimizer': 'Adamax'}\n",
      "0.819433 (0.009576) with: {'optimizer': 'SGD'}\n",
      "0.827800 (0.008315) with: {'optimizer': 'RMSprop'}\n",
      "0.836917 (0.016600) with: {'optimizer': 'Adagrad'}\n",
      "0.807767 (0.029174) with: {'optimizer': 'Adadelta'}\n",
      "0.841617 (0.008210) with: {'optimizer': 'Adam'}\n",
      "0.842050 (0.005538) with: {'optimizer': 'Adamax'}\n",
      "0.802867 (0.036250) with: {'optimizer': 'Nadam'}\n"
     ]
    }
   ],
   "source": [
    "from sklearn.model_selection import GridSearchCV\n",
    "from keras.wrappers.scikit_learn import KerasClassifier\n",
    "\n",
    "# call Keras scikit wrapper\n",
    "model_gridsearch = KerasClassifier(build_fn=compile_model, \n",
    "                        epochs=1, \n",
    "                        batch_size=batch_size, \n",
    "                        verbose=1)\n",
    "\n",
    "# list of allowed optional arguments for the optimizer, see `compile_model()`\n",
    "optimizer = ['SGD', 'RMSprop', 'Adagrad', 'Adadelta', 'Adam', 'Adamax', 'Nadam']\n",
    "# define parameter dictionary\n",
    "param_grid = dict(optimizer=optimizer)\n",
    "# call scikit grid search module\n",
    "grid = GridSearchCV(estimator=model_gridsearch, param_grid=param_grid, n_jobs=1, cv=4)\n",
    "grid_result = grid.fit(X_train,Y_train)\n",
    "\n",
    "# summarize results\n",
    "print(\"Best: %f using %s\" % (grid_result.best_score_, grid_result.best_params_))\n",
    "means = grid_result.cv_results_['mean_test_score']\n",
    "stds = grid_result.cv_results_['std_test_score']\n",
    "params = grid_result.cv_results_['params']\n",
    "for mean, stdev, param in zip(means, stds, params):\n",
    "    print(\"%f (%f) with: %r\" % (mean, stdev, param))\n"
   ]
  },
  {
   "cell_type": "markdown",
   "metadata": {},
   "source": [
    "## Creating Convolutional Neural Nets with Keras\n",
    "\n",
    "We have so far considered each MNIST data sample as a $(28\\times 28,)$-long 1d vector. This approach neglects any spatial structure in the image. On the other hand, we do know that in every one of the hand-written digits there are *local* spatial correlations between the pixels, which we would like to take advantage of to improve the accuracy of our classification model. To this end, we first need to reshape the training and test input data as follows"
   ]
  },
  {
   "cell_type": "code",
   "execution_count": 51,
   "metadata": {},
   "outputs": [
    {
     "name": "stdout",
     "output_type": "stream",
     "text": [
      "X_train shape: (60000, 28, 28, 1)\n",
      "Y_train shape: (60000, 10)\n",
      "\n",
      "60000 train samples\n",
      "10000 test samples\n"
     ]
    }
   ],
   "source": [
    "# reshape data, depending on Keras backend\n",
    "if keras.backend.image_data_format() == 'channels_first':\n",
    "    X_train = X_train.reshape(X_train.shape[0], 1, img_rows, img_cols)\n",
    "    X_test = X_test.reshape(X_test.shape[0], 1, img_rows, img_cols)\n",
    "    input_shape = (1, img_rows, img_cols)\n",
    "else:\n",
    "    X_train = X_train.reshape(X_train.shape[0], img_rows, img_cols, 1)\n",
    "    X_test = X_test.reshape(X_test.shape[0], img_rows, img_cols, 1)\n",
    "    input_shape = (img_rows, img_cols, 1)\n",
    "    \n",
    "print('X_train shape:', X_train.shape)\n",
    "print('Y_train shape:', Y_train.shape)\n",
    "print()\n",
    "print(X_train.shape[0], 'train samples')\n",
    "print(X_test.shape[0], 'test samples')"
   ]
  },
  {
   "cell_type": "markdown",
   "metadata": {},
   "source": [
    "One can ask the question of whether a neural net can learn to recognize such local patterns. As we saw in Sec. X of the review, this can be achieved by using convolutional layers. Luckily, all we need to do is change the architecture of our DNN, i.e. introduce small changes to the function `create_model()`. We can also merge **Step 2** and **Step 3** for convenience: "
   ]
  },
  {
   "cell_type": "code",
   "execution_count": 52,
   "metadata": {},
   "outputs": [],
   "source": [
    "def create_CNN():\n",
    "    # instantiate model\n",
    "    model = Sequential()\n",
    "    # add first convolutional layer with 10 filters (dimensionality of output space)\n",
    "    model.add(Conv2D(10, kernel_size=(5, 5),\n",
    "                     activation='relu',\n",
    "                     input_shape=input_shape))\n",
    "    # add 2D pooling layer\n",
    "    model.add(MaxPooling2D(pool_size=(2, 2)))\n",
    "    # add second convolutional layer with 20 filters\n",
    "    model.add(Conv2D(20, (5, 5), activation='relu'))\n",
    "    # apply dropout with rate 0.5\n",
    "    model.add(Dropout(0.5))\n",
    "    # add 2D pooling layer\n",
    "    model.add(MaxPooling2D(pool_size=(2, 2)))\n",
    "    # flatten data\n",
    "    model.add(Flatten())\n",
    "    # add a dense all-to-all relu layer\n",
    "    model.add(Dense(20*4*4, activation='relu'))\n",
    "    # apply dropout with rate 0.5\n",
    "    model.add(Dropout(0.5))\n",
    "    # soft-max layer\n",
    "    model.add(Dense(num_classes, activation='softmax'))\n",
    "    \n",
    "    # compile the model\n",
    "    model.compile(loss=keras.losses.categorical_crossentropy,\n",
    "                  optimizer='Adam',\n",
    "                  metrics=['accuracy'])\n",
    "    \n",
    "    return model"
   ]
  },
  {
   "cell_type": "markdown",
   "metadata": {},
   "source": [
    "Training the deep conv net (**Step 4**) and evaluating its performance (**Step 6**) proceeds exactly as before:"
   ]
  },
  {
   "cell_type": "code",
   "execution_count": 53,
   "metadata": {},
   "outputs": [
    {
     "name": "stdout",
     "output_type": "stream",
     "text": [
      "WARNING:tensorflow:From /Users/alpakpinar/anaconda3/lib/python3.7/site-packages/keras/backend/tensorflow_backend.py:4070: The name tf.nn.max_pool is deprecated. Please use tf.nn.max_pool2d instead.\n",
      "\n",
      "Train on 60000 samples, validate on 10000 samples\n",
      "Epoch 1/10\n",
      "60000/60000 [==============================] - 12s 193us/step - loss: 0.6231 - accuracy: 0.7691 - val_loss: 0.4770 - val_accuracy: 0.8388\n",
      "Epoch 2/10\n",
      "60000/60000 [==============================] - 11s 182us/step - loss: 0.4383 - accuracy: 0.8400 - val_loss: 0.4232 - val_accuracy: 0.8580\n",
      "Epoch 3/10\n",
      "60000/60000 [==============================] - 11s 182us/step - loss: 0.3939 - accuracy: 0.8554 - val_loss: 0.3723 - val_accuracy: 0.8742\n",
      "Epoch 4/10\n",
      "60000/60000 [==============================] - 10s 171us/step - loss: 0.3612 - accuracy: 0.8662 - val_loss: 0.3657 - val_accuracy: 0.8801\n",
      "Epoch 5/10\n",
      "60000/60000 [==============================] - 11s 176us/step - loss: 0.3450 - accuracy: 0.8712 - val_loss: 0.3388 - val_accuracy: 0.8833\n",
      "Epoch 6/10\n",
      "60000/60000 [==============================] - 10s 174us/step - loss: 0.3340 - accuracy: 0.8767 - val_loss: 0.3428 - val_accuracy: 0.8806\n",
      "Epoch 7/10\n",
      "60000/60000 [==============================] - 10s 174us/step - loss: 0.3199 - accuracy: 0.8818 - val_loss: 0.3188 - val_accuracy: 0.8888\n",
      "Epoch 8/10\n",
      "60000/60000 [==============================] - 10s 170us/step - loss: 0.3139 - accuracy: 0.8831 - val_loss: 0.3110 - val_accuracy: 0.8928\n",
      "Epoch 9/10\n",
      "60000/60000 [==============================] - 10s 170us/step - loss: 0.3033 - accuracy: 0.8867 - val_loss: 0.3063 - val_accuracy: 0.8954\n",
      "Epoch 10/10\n",
      "60000/60000 [==============================] - 11s 177us/step - loss: 0.3025 - accuracy: 0.8878 - val_loss: 0.3081 - val_accuracy: 0.8936\n",
      "10000/10000 [==============================] - 1s 97us/step\n",
      "\n",
      "Test loss: 0.3081124629020691\n",
      "Test accuracy: 0.8935999870300293\n"
     ]
    }
   ],
   "source": [
    "# training parameters\n",
    "batch_size = 64\n",
    "epochs = 10\n",
    "\n",
    "# create the deep conv net\n",
    "model_CNN=create_CNN()\n",
    "\n",
    "# train CNN\n",
    "model_CNN.fit(X_train, Y_train,\n",
    "          batch_size=batch_size,\n",
    "          epochs=epochs,\n",
    "          verbose=1,\n",
    "          validation_data=(X_test, Y_test))\n",
    "\n",
    "# evaliate model\n",
    "score = model_CNN.evaluate(X_test, Y_test, verbose=1)\n",
    "\n",
    "# print performance\n",
    "print()\n",
    "print('Test loss:', score[0])\n",
    "print('Test accuracy:', score[1])"
   ]
  },
  {
   "cell_type": "code",
   "execution_count": null,
   "metadata": {},
   "outputs": [],
   "source": []
  }
 ],
 "metadata": {
  "kernelspec": {
   "display_name": "Python 3",
   "language": "python",
   "name": "python3"
  },
  "language_info": {
   "codemirror_mode": {
    "name": "ipython",
    "version": 3
   },
   "file_extension": ".py",
   "mimetype": "text/x-python",
   "name": "python",
   "nbconvert_exporter": "python",
   "pygments_lexer": "ipython3",
   "version": "3.7.3"
  }
 },
 "nbformat": 4,
 "nbformat_minor": 2
}
